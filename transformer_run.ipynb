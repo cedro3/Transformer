{
  "nbformat": 4,
  "nbformat_minor": 0,
  "metadata": {
    "kernelspec": {
      "display_name": "Python 3",
      "language": "python",
      "name": "python3"
    },
    "language_info": {
      "codemirror_mode": {
        "name": "ipython",
        "version": 3
      },
      "file_extension": ".py",
      "mimetype": "text/x-python",
      "name": "python",
      "nbconvert_exporter": "python",
      "pygments_lexer": "ipython3",
      "version": "3.7.2"
    },
    "colab": {
      "name": "transformer_run",
      "provenance": [],
      "include_colab_link": true
    },
    "accelerator": "GPU"
  },
  "cells": [
    {
      "cell_type": "markdown",
      "metadata": {
        "id": "view-in-github",
        "colab_type": "text"
      },
      "source": [
        "<a href=\"https://colab.research.google.com/github/cedro3/Transformer/blob/master/transformer_run.ipynb\" target=\"_parent\"><img src=\"https://colab.research.google.com/assets/colab-badge.svg\" alt=\"Open In Colab\"/></a>"
      ]
    },
    {
      "cell_type": "markdown",
      "metadata": {
        "id": "NZgA2TMZcYIe",
        "colab_type": "text"
      },
      "source": [
        "# 7.7 Transformerの学習・推論、判定根拠の可視化を実装\n",
        "\n",
        "- 本ファイルでは、ここまでで作成したTransformerモデルとIMDbのDataLoaderを使用してクラス分類を学習させます。テストデータで推論をし、さらに判断根拠となるAttentionを可視化します"
      ]
    },
    {
      "cell_type": "code",
      "metadata": {
        "id": "ai9T70ScccNJ",
        "colab_type": "code",
        "colab": {
          "base_uri": "https://localhost:8080/",
          "height": 119
        },
        "outputId": "a631638b-0367-4d50-8546-17062dac3299"
      },
      "source": [
        "!git clone https://github.com/cedro3/Transformer.git"
      ],
      "execution_count": 2,
      "outputs": [
        {
          "output_type": "stream",
          "text": [
            "Cloning into 'Transformer'...\n",
            "remote: Enumerating objects: 19, done.\u001b[K\n",
            "remote: Counting objects: 100% (19/19), done.\u001b[K\n",
            "remote: Compressing objects: 100% (16/16), done.\u001b[K\n",
            "remote: Total 19 (delta 5), reused 0 (delta 0), pack-reused 0\u001b[K\n",
            "Unpacking objects: 100% (19/19), done.\n"
          ],
          "name": "stdout"
        }
      ]
    },
    {
      "cell_type": "code",
      "metadata": {
        "id": "3-Jg-sd1ccWK",
        "colab_type": "code",
        "colab": {
          "base_uri": "https://localhost:8080/",
          "height": 34
        },
        "outputId": "770892cb-c7ce-47e0-c485-2beee6fed57d"
      },
      "source": [
        "cd Transformer"
      ],
      "execution_count": 3,
      "outputs": [
        {
          "output_type": "stream",
          "text": [
            "/content/Transformer\n"
          ],
          "name": "stdout"
        }
      ]
    },
    {
      "cell_type": "code",
      "metadata": {
        "id": "kHf-m5sKcceF",
        "colab_type": "code",
        "colab": {
          "base_uri": "https://localhost:8080/",
          "height": 68
        },
        "outputId": "c451bab7-bf4b-405c-ffed-b135f1d5d9f5"
      },
      "source": [
        "ls"
      ],
      "execution_count": 39,
      "outputs": [
        {
          "output_type": "stream",
          "text": [
            "200725_7_7_transformer_training_inference.ipynb  dataloader.py  transformer.py\n",
            "\u001b[0m\u001b[01;34mdata\u001b[0m/                                            \u001b[01;34m__pycache__\u001b[0m/\n",
            "\u001b[01;34mdata_en\u001b[0m/                                         README.md\n"
          ],
          "name": "stdout"
        }
      ]
    },
    {
      "cell_type": "code",
      "metadata": {
        "id": "x8TIKrBOqcy_",
        "colab_type": "code",
        "colab": {}
      },
      "source": [
        "import os\n",
        "import urllib.request\n",
        "import zipfile\n",
        "import tarfile\n",
        "\n",
        "os.makedirs('data', exist_ok=True)"
      ],
      "execution_count": 40,
      "outputs": []
    },
    {
      "cell_type": "code",
      "metadata": {
        "id": "SD1fiYcxpkOI",
        "colab_type": "code",
        "colab": {}
      },
      "source": [
        "# IMDbデータセットをダウンロード。30秒ほどでダウンロードできます\n",
        "\n",
        "url = \"http://ai.stanford.edu/~amaas/data/sentiment/aclImdb_v1.tar.gz\"\n",
        "save_path = \"./data/aclImdb_v1.tar.gz\"\n",
        "if not os.path.exists(save_path):\n",
        "    urllib.request.urlretrieve(url, save_path)"
      ],
      "execution_count": 41,
      "outputs": []
    },
    {
      "cell_type": "code",
      "metadata": {
        "id": "2tDUuj4EqISS",
        "colab_type": "code",
        "colab": {}
      },
      "source": [
        "# './data/aclImdb_v1.tar.gz'の解凍　1分ほどかかります\n",
        "\n",
        "# tarファイルを読み込み\n",
        "tar = tarfile.open('./data/aclImdb_v1.tar.gz')\n",
        "tar.extractall('./data/')  # 解凍\n",
        "tar.close()  # ファイルをクローズ\n",
        "\n",
        "# フォルダ「data」内にフォルダ「aclImdb」というものができます。"
      ],
      "execution_count": 42,
      "outputs": []
    },
    {
      "cell_type": "code",
      "metadata": {
        "id": "Q-43PdlKruwS",
        "colab_type": "code",
        "colab": {}
      },
      "source": [
        "# fastTextの公式の英語学習済みモデル（650MB）をダウンロード。時間が5分ほどかかります\n",
        "url = \"https://dl.fbaipublicfiles.com/fasttext/vectors-english/wiki-news-300d-1M.vec.zip\"\n",
        "save_path = \"./data/wiki-news-300d-1M.vec.zip\"\n",
        "if not os.path.exists(save_path):\n",
        "    urllib.request.urlretrieve(url, save_path)"
      ],
      "execution_count": 43,
      "outputs": []
    },
    {
      "cell_type": "code",
      "metadata": {
        "id": "hoTHyvcPrzqp",
        "colab_type": "code",
        "colab": {}
      },
      "source": [
        "# フォルダ「data」内の「/wiki-news-300d-1M.vec.zip」を解凍する\n",
        "\n",
        "zipf = zipfile.ZipFile(\"./data/wiki-news-300d-1M.vec.zip\")  # zip > zipf\n",
        "zipf.extractall(\"./data/\")  # ZIPを解凍  # zip > zipf\n",
        "zipf.close()  # ZIPファイルをクローズ    # zip > zipf\n",
        "\n",
        "# フォルダ「data」内にフォルダ「wiki-news-300d-1M.vec」というものができます。"
      ],
      "execution_count": 44,
      "outputs": []
    },
    {
      "cell_type": "markdown",
      "metadata": {
        "id": "j3b9z9dbcYIg",
        "colab_type": "text"
      },
      "source": [
        "# 7.7 学習目標\n",
        "\n",
        "1.\tTransformerの学習を実装できるようになる\n",
        "2.\tTransformerの判定時のAttention可視化を実装できるようになる\n"
      ]
    },
    {
      "cell_type": "markdown",
      "metadata": {
        "id": "iJASbjTHcYIh",
        "colab_type": "text"
      },
      "source": [
        "# 事前準備\n",
        "\n",
        "- フォルダ「utils」内の関数やクラスを使用します"
      ]
    },
    {
      "cell_type": "code",
      "metadata": {
        "id": "L0zl-vatcYIh",
        "colab_type": "code",
        "colab": {}
      },
      "source": [
        "# パッケージのimport\n",
        "import numpy as np\n",
        "import random\n",
        "\n",
        "import torch\n",
        "import torch.nn as nn\n",
        "import torch.optim as optim\n",
        "\n",
        "import torchtext\n"
      ],
      "execution_count": 45,
      "outputs": []
    },
    {
      "cell_type": "code",
      "metadata": {
        "id": "9IBWgTe3cYIl",
        "colab_type": "code",
        "colab": {}
      },
      "source": [
        "# 乱数のシードを設定\n",
        "torch.manual_seed(1234)\n",
        "np.random.seed(1234)\n",
        "random.seed(1234)"
      ],
      "execution_count": 46,
      "outputs": []
    },
    {
      "cell_type": "markdown",
      "metadata": {
        "id": "5c7udEkecYIp",
        "colab_type": "text"
      },
      "source": [
        "# DatasetとDataLoaderを作成"
      ]
    },
    {
      "cell_type": "code",
      "metadata": {
        "id": "O4DGwhqocYIp",
        "colab_type": "code",
        "colab": {}
      },
      "source": [
        "from dataloader import get_IMDb_DataLoaders_and_TEXT  ####\n",
        "\n",
        "# 読み込み\n",
        "train_dl, val_dl, test_dl, TEXT = get_IMDb_DataLoaders_and_TEXT(\n",
        "    max_length=256, batch_size=64)\n",
        "\n",
        "# 辞書オブジェクトにまとめる\n",
        "dataloaders_dict = {\"train\": train_dl, \"val\": val_dl}\n"
      ],
      "execution_count": 47,
      "outputs": []
    },
    {
      "cell_type": "markdown",
      "metadata": {
        "id": "Nq6Y-BKxcYIu",
        "colab_type": "text"
      },
      "source": [
        "# ネットワークモデルの作成"
      ]
    },
    {
      "cell_type": "code",
      "metadata": {
        "id": "Lx33RtQ6cYIu",
        "colab_type": "code",
        "colab": {
          "base_uri": "https://localhost:8080/",
          "height": 34
        },
        "outputId": "817e9fc6-006d-4fa4-fd0a-6623cdde1a1d"
      },
      "source": [
        "from transformer import TransformerClassification  ####\n",
        "\n",
        "# モデル構築\n",
        "net = TransformerClassification(\n",
        "    text_embedding_vectors=TEXT.vocab.vectors, d_model=300, max_seq_len=256, output_dim=2)\n",
        "\n",
        "# ネットワークの初期化を定義\n",
        "\n",
        "\n",
        "def weights_init(m):\n",
        "    classname = m.__class__.__name__\n",
        "    if classname.find('Linear') != -1:\n",
        "        # Liner層の初期化\n",
        "        nn.init.kaiming_normal_(m.weight)\n",
        "        if m.bias is not None:\n",
        "            nn.init.constant_(m.bias, 0.0)\n",
        "\n",
        "\n",
        "# 訓練モードに設定\n",
        "net.train()\n",
        "\n",
        "# TransformerBlockモジュールを初期化実行\n",
        "net.net3_1.apply(weights_init)\n",
        "net.net3_2.apply(weights_init)\n",
        "\n",
        "\n",
        "print('ネットワーク設定完了')\n"
      ],
      "execution_count": 48,
      "outputs": [
        {
          "output_type": "stream",
          "text": [
            "ネットワーク設定完了\n"
          ],
          "name": "stdout"
        }
      ]
    },
    {
      "cell_type": "markdown",
      "metadata": {
        "id": "IwgC2x82cYIy",
        "colab_type": "text"
      },
      "source": [
        "# 損失関数と最適化手法を定義"
      ]
    },
    {
      "cell_type": "code",
      "metadata": {
        "id": "k8-cxceDcYIz",
        "colab_type": "code",
        "colab": {}
      },
      "source": [
        "# 損失関数の設定\n",
        "criterion = nn.CrossEntropyLoss()\n",
        "# nn.LogSoftmax()を計算してからnn.NLLLoss(negative log likelihood loss)を計算\n",
        "\n",
        "# 最適化手法の設定\n",
        "learning_rate = 2e-5\n",
        "optimizer = optim.Adam(net.parameters(), lr=learning_rate)\n"
      ],
      "execution_count": 49,
      "outputs": []
    },
    {
      "cell_type": "markdown",
      "metadata": {
        "id": "1piTApx0cYI2",
        "colab_type": "text"
      },
      "source": [
        "# 学習・検証を実施"
      ]
    },
    {
      "cell_type": "code",
      "metadata": {
        "id": "hlgcvCVAcYI3",
        "colab_type": "code",
        "colab": {}
      },
      "source": [
        "# モデルを学習させる関数を作成\n",
        "\n",
        "\n",
        "def train_model(net, dataloaders_dict, criterion, optimizer, num_epochs):\n",
        "\n",
        "    # GPUが使えるかを確認\n",
        "    device = torch.device(\"cuda:0\" if torch.cuda.is_available() else \"cpu\")\n",
        "    print(\"使用デバイス：\", device)\n",
        "    print('-----start-------')\n",
        "    # ネットワークをGPUへ\n",
        "    net.to(device)\n",
        "\n",
        "    # ネットワークがある程度固定であれば、高速化させる\n",
        "    torch.backends.cudnn.benchmark = True\n",
        "\n",
        "    # epochのループ\n",
        "    for epoch in range(num_epochs):\n",
        "        # epochごとの訓練と検証のループ\n",
        "        for phase in ['train', 'val']:\n",
        "            if phase == 'train':\n",
        "                net.train()  # モデルを訓練モードに\n",
        "            else:\n",
        "                net.eval()   # モデルを検証モードに\n",
        "\n",
        "            epoch_loss = 0.0  # epochの損失和\n",
        "            epoch_corrects = 0  # epochの正解数\n",
        "\n",
        "            # データローダーからミニバッチを取り出すループ\n",
        "            for batch in (dataloaders_dict[phase]):\n",
        "                # batchはTextとLableの辞書オブジェクト\n",
        "\n",
        "                # GPUが使えるならGPUにデータを送る\n",
        "                inputs = batch.Text[0].to(device)  # 文章\n",
        "                labels = batch.Label.to(device)  # ラベル\n",
        "\n",
        "                # optimizerを初期化\n",
        "                optimizer.zero_grad()\n",
        "\n",
        "                # 順伝搬（forward）計算\n",
        "                with torch.set_grad_enabled(phase == 'train'):\n",
        "\n",
        "                    # mask作成\n",
        "                    input_pad = 1  # 単語のIDにおいて、'<pad>': 1 なので\n",
        "                    input_mask = (inputs != input_pad)\n",
        "\n",
        "                    # Transformerに入力\n",
        "                    outputs, _, _ = net(inputs, input_mask)\n",
        "                    loss = criterion(outputs, labels)  # 損失を計算\n",
        "\n",
        "                    _, preds = torch.max(outputs, 1)  # ラベルを予測\n",
        "\n",
        "                    # 訓練時はバックプロパゲーション\n",
        "                    if phase == 'train':\n",
        "                        loss.backward()\n",
        "                        optimizer.step()\n",
        "\n",
        "                    # 結果の計算\n",
        "                    epoch_loss += loss.item() * inputs.size(0)  # lossの合計を更新\n",
        "                    # 正解数の合計を更新\n",
        "                    epoch_corrects += torch.sum(preds == labels.data)\n",
        "\n",
        "            # epochごとのlossと正解率\n",
        "            epoch_loss = epoch_loss / len(dataloaders_dict[phase].dataset)\n",
        "            epoch_acc = epoch_corrects.double(\n",
        "            ) / len(dataloaders_dict[phase].dataset)\n",
        "\n",
        "            print('Epoch {}/{} | {:^5} |  Loss: {:.4f} Acc: {:.4f}'.format(epoch+1, num_epochs,\n",
        "                                                                           phase, epoch_loss, epoch_acc))\n",
        "\n",
        "    return net\n"
      ],
      "execution_count": 50,
      "outputs": []
    },
    {
      "cell_type": "code",
      "metadata": {
        "id": "lPpWWoGVcYI6",
        "colab_type": "code",
        "colab": {
          "base_uri": "https://localhost:8080/",
          "height": 457
        },
        "outputId": "03315b4e-63d6-4a4e-bb23-21ee6cfd559b"
      },
      "source": [
        "# 学習・検証を実行する 15分ほどかかります\n",
        "num_epochs = 10\n",
        "net_trained = train_model(net, dataloaders_dict,\n",
        "                          criterion, optimizer, num_epochs=num_epochs)\n"
      ],
      "execution_count": 51,
      "outputs": [
        {
          "output_type": "stream",
          "text": [
            "使用デバイス： cuda:0\n",
            "-----start-------\n",
            "Epoch 1/10 | train |  Loss: 0.5961 Acc: 0.6698\n",
            "Epoch 1/10 |  val  |  Loss: 0.4215 Acc: 0.8104\n",
            "Epoch 2/10 | train |  Loss: 0.4385 Acc: 0.7989\n",
            "Epoch 2/10 |  val  |  Loss: 0.3915 Acc: 0.8246\n",
            "Epoch 3/10 | train |  Loss: 0.4020 Acc: 0.8181\n",
            "Epoch 3/10 |  val  |  Loss: 0.3760 Acc: 0.8358\n"
          ],
          "name": "stdout"
        },
        {
          "output_type": "error",
          "ename": "KeyboardInterrupt",
          "evalue": "ignored",
          "traceback": [
            "\u001b[0;31m---------------------------------------------------------------------------\u001b[0m",
            "\u001b[0;31mKeyboardInterrupt\u001b[0m                         Traceback (most recent call last)",
            "\u001b[0;32m<ipython-input-51-0ab36860b8a5>\u001b[0m in \u001b[0;36m<module>\u001b[0;34m()\u001b[0m\n\u001b[1;32m      2\u001b[0m \u001b[0mnum_epochs\u001b[0m \u001b[0;34m=\u001b[0m \u001b[0;36m10\u001b[0m\u001b[0;34m\u001b[0m\u001b[0;34m\u001b[0m\u001b[0m\n\u001b[1;32m      3\u001b[0m net_trained = train_model(net, dataloaders_dict,\n\u001b[0;32m----> 4\u001b[0;31m                           criterion, optimizer, num_epochs=num_epochs)\n\u001b[0m",
            "\u001b[0;32m<ipython-input-50-107013c8b9f5>\u001b[0m in \u001b[0;36mtrain_model\u001b[0;34m(net, dataloaders_dict, criterion, optimizer, num_epochs)\u001b[0m\n\u001b[1;32m     56\u001b[0m \u001b[0;34m\u001b[0m\u001b[0m\n\u001b[1;32m     57\u001b[0m                     \u001b[0;31m# 結果の計算\u001b[0m\u001b[0;34m\u001b[0m\u001b[0;34m\u001b[0m\u001b[0;34m\u001b[0m\u001b[0m\n\u001b[0;32m---> 58\u001b[0;31m                     \u001b[0mepoch_loss\u001b[0m \u001b[0;34m+=\u001b[0m \u001b[0mloss\u001b[0m\u001b[0;34m.\u001b[0m\u001b[0mitem\u001b[0m\u001b[0;34m(\u001b[0m\u001b[0;34m)\u001b[0m \u001b[0;34m*\u001b[0m \u001b[0minputs\u001b[0m\u001b[0;34m.\u001b[0m\u001b[0msize\u001b[0m\u001b[0;34m(\u001b[0m\u001b[0;36m0\u001b[0m\u001b[0;34m)\u001b[0m  \u001b[0;31m# lossの合計を更新\u001b[0m\u001b[0;34m\u001b[0m\u001b[0;34m\u001b[0m\u001b[0m\n\u001b[0m\u001b[1;32m     59\u001b[0m                     \u001b[0;31m# 正解数の合計を更新\u001b[0m\u001b[0;34m\u001b[0m\u001b[0;34m\u001b[0m\u001b[0;34m\u001b[0m\u001b[0m\n\u001b[1;32m     60\u001b[0m                     \u001b[0mepoch_corrects\u001b[0m \u001b[0;34m+=\u001b[0m \u001b[0mtorch\u001b[0m\u001b[0;34m.\u001b[0m\u001b[0msum\u001b[0m\u001b[0;34m(\u001b[0m\u001b[0mpreds\u001b[0m \u001b[0;34m==\u001b[0m \u001b[0mlabels\u001b[0m\u001b[0;34m.\u001b[0m\u001b[0mdata\u001b[0m\u001b[0;34m)\u001b[0m\u001b[0;34m\u001b[0m\u001b[0;34m\u001b[0m\u001b[0m\n",
            "\u001b[0;31mKeyboardInterrupt\u001b[0m: "
          ]
        }
      ]
    },
    {
      "cell_type": "markdown",
      "metadata": {
        "id": "U34M69axcYI_",
        "colab_type": "text"
      },
      "source": [
        "# テストデータでの正解率を求める"
      ]
    },
    {
      "cell_type": "code",
      "metadata": {
        "id": "Efdn0D-ucYI_",
        "colab_type": "code",
        "colab": {
          "base_uri": "https://localhost:8080/",
          "height": 34
        },
        "outputId": "29af54ef-e39b-48ec-8d93-b910a655eada"
      },
      "source": [
        "# device\n",
        "device = torch.device(\"cuda:0\" if torch.cuda.is_available() else \"cpu\")\n",
        "\n",
        "net_trained.eval()   # モデルを検証モードに\n",
        "net_trained.to(device)\n",
        "\n",
        "epoch_corrects = 0  # epochの正解数\n",
        "\n",
        "for batch in (test_dl):  # testデータのDataLoader\n",
        "    # batchはTextとLableの辞書オブジェクト\n",
        "    \n",
        "    # GPUが使えるならGPUにデータを送る\n",
        "    inputs = batch.Text[0].to(device)  # 文章\n",
        "    labels = batch.Label.to(device)  # ラベル\n",
        "\n",
        "    # 順伝搬（forward）計算\n",
        "    with torch.set_grad_enabled(False):\n",
        "\n",
        "        # mask作成\n",
        "        input_pad = 1  # 単語のIDにおいて、'<pad>': 1 なので\n",
        "        input_mask = (inputs != input_pad)\n",
        "\n",
        "        # Transformerに入力\n",
        "        outputs, _, _ = net_trained(inputs, input_mask)\n",
        "        _, preds = torch.max(outputs, 1)  # ラベルを予測\n",
        "\n",
        "        # 結果の計算\n",
        "        # 正解数の合計を更新\n",
        "        epoch_corrects += torch.sum(preds == labels.data)\n",
        "\n",
        "# 正解率\n",
        "epoch_acc = epoch_corrects.double() / len(test_dl.dataset)\n",
        "\n",
        "print('テストデータ{}個での正解率：{:.4f}'.format(len(test_dl.dataset),epoch_acc))\n"
      ],
      "execution_count": 18,
      "outputs": [
        {
          "output_type": "stream",
          "text": [
            "テストデータ25000個での正解率：0.8471\n"
          ],
          "name": "stdout"
        }
      ]
    },
    {
      "cell_type": "markdown",
      "metadata": {
        "id": "ePM7sOM9cYJC",
        "colab_type": "text"
      },
      "source": [
        "# Attentionの可視化で判定根拠を探る\n",
        "\n"
      ]
    },
    {
      "cell_type": "code",
      "metadata": {
        "id": "PHg0Hw-wcYJC",
        "colab_type": "code",
        "colab": {}
      },
      "source": [
        "# HTMLを作成する関数を実装\n",
        "\n",
        "\n",
        "def highlight(word, attn):\n",
        "    \"Attentionの値が大きいと文字の背景が濃い赤になるhtmlを出力させる関数\"\n",
        "\n",
        "    html_color = '#%02X%02X%02X' % (\n",
        "        255, int(255*(1 - attn)), int(255*(1 - attn)))\n",
        "    return '<span style=\"background-color: {}\"> {}</span>'.format(html_color, word)\n",
        "\n",
        "\n",
        "def mk_html(index, batch, preds, normlized_weights_1, normlized_weights_2, TEXT):\n",
        "    \"HTMLデータを作成する\"\n",
        "\n",
        "    # indexの結果を抽出\n",
        "    sentence = batch.Text[0][index]  # 文章\n",
        "    label = batch.Label[index]  # ラベル\n",
        "    pred = preds[index]  # 予測\n",
        "\n",
        "    # indexのAttentionを抽出と規格化\n",
        "    attens1 = normlized_weights_1[index, 0, :]  # 0番目の<cls>のAttention\n",
        "    attens1 /= attens1.max()\n",
        "\n",
        "    attens2 = normlized_weights_2[index, 0, :]  # 0番目の<cls>のAttention\n",
        "    attens2 /= attens2.max()\n",
        "\n",
        "    # ラベルと予測結果を文字に置き換え\n",
        "    if label == 0:\n",
        "        label_str = \"Negative\"\n",
        "    else:\n",
        "        label_str = \"Positive\"\n",
        "\n",
        "    if pred == 0:\n",
        "        pred_str = \"Negative\"\n",
        "    else:\n",
        "        pred_str = \"Positive\"\n",
        "\n",
        "    # 表示用のHTMLを作成する\n",
        "    html = '正解ラベル：{}<br>推論ラベル：{}<br><br>'.format(label_str, pred_str)\n",
        "\n",
        "    # 1段目のAttention\n",
        "    html += '[TransformerBlockの1段目のAttentionを可視化]<br>'\n",
        "    for word, attn in zip(sentence, attens1):\n",
        "        html += highlight(TEXT.vocab.itos[word], attn)\n",
        "    html += \"<br><br>\"\n",
        "\n",
        "    # 2段目のAttention\n",
        "    html += '[TransformerBlockの2段目のAttentionを可視化]<br>'\n",
        "    for word, attn in zip(sentence, attens2):\n",
        "        html += highlight(TEXT.vocab.itos[word], attn)\n",
        "\n",
        "    html += \"<br><br>\"\n",
        "\n",
        "    return html\n"
      ],
      "execution_count": 19,
      "outputs": []
    },
    {
      "cell_type": "code",
      "metadata": {
        "id": "YU9T3vJycYJG",
        "colab_type": "code",
        "colab": {
          "base_uri": "https://localhost:8080/",
          "height": 340
        },
        "outputId": "2228fad8-c65d-4c54-e0d6-48a0bd6a5339"
      },
      "source": [
        "from IPython.display import HTML\n",
        "\n",
        "# Transformerで処理\n",
        "\n",
        "# ミニバッチの用意\n",
        "batch = next(iter(test_dl))\n",
        "\n",
        "# GPUが使えるならGPUにデータを送る\n",
        "inputs = batch.Text[0].to(device)  # 文章\n",
        "labels = batch.Label.to(device)  # ラベル\n",
        "\n",
        "# mask作成\n",
        "input_pad = 1  # 単語のIDにおいて、'<pad>': 1 なので\n",
        "input_mask = (inputs != input_pad)\n",
        "\n",
        "# Transformerに入力\n",
        "outputs, normlized_weights_1, normlized_weights_2 = net_trained(\n",
        "    inputs, input_mask)\n",
        "_, preds = torch.max(outputs, 1)  # ラベルを予測\n",
        "\n",
        "\n",
        "index = 3  # 出力させたいデータ\n",
        "html_output = mk_html(index, batch, preds, normlized_weights_1,\n",
        "                      normlized_weights_2, TEXT)  # HTML作成\n",
        "HTML(html_output)  # HTML形式で出力\n"
      ],
      "execution_count": 20,
      "outputs": [
        {
          "output_type": "execute_result",
          "data": {
            "text/html": [
              "正解ラベル：Positive<br>推論ラベル：Positive<br><br>[TransformerBlockの1段目のAttentionを可視化]<br><span style=\"background-color: #FFF5F5\"> <cls></span><span style=\"background-color: #FFEAEA\"> dennis</span><span style=\"background-color: #FFFCFC\"> patrick</span><span style=\"background-color: #FFF3F3\"> plays</span><span style=\"background-color: #FFFAFA\"> a</span><span style=\"background-color: #FFFDFD\"> man</span><span style=\"background-color: #FFFEFE\"> who</span><span style=\"background-color: #FFECEC\"> accidentally</span><span style=\"background-color: #FFFCFC\"> kills</span><span style=\"background-color: #FFFAFA\"> his</span><span style=\"background-color: #FFFDFD\"> daughter</span><span style=\"background-color: #FFFCFC\"> s</span><span style=\"background-color: #FFFDFD\"> boyfriend</span><span style=\"background-color: #FFFEFE\"> and</span><span style=\"background-color: #FFFEFE\"> then</span><span style=\"background-color: #FFF0F0\"> reveals</span><span style=\"background-color: #FFFCFC\"> his</span><span style=\"background-color: #FFF5F5\"> secret</span><span style=\"background-color: #FFFEFE\"> at</span><span style=\"background-color: #FFFCFC\"> a</span><span style=\"background-color: #FFFDFD\"> local</span><span style=\"background-color: #FFEDED\"> bar</span><span style=\"background-color: #FFFEFE\"> .</span><span style=\"background-color: #FFFCFC\"> joe</span><span style=\"background-color: #FFFDFD\"> peter</span><span style=\"background-color: #FFF5F5\"> boyle</span><span style=\"background-color: #FFFEFE\"> ,</span><span style=\"background-color: #FFF9F9\"> a</span><span style=\"background-color: #FFFDFD\"> <unk></span><span style=\"background-color: #FFFEFE\"> who</span><span style=\"background-color: #FFFCFC\"> is</span><span style=\"background-color: #FFFDFD\"> getting</span><span style=\"background-color: #FFF2F2\"> drunk</span><span style=\"background-color: #FFFDFD\"> there</span><span style=\"background-color: #FFFEFE\"> ,</span><span style=\"background-color: #FFFEFE\"> at</span><span style=\"background-color: #FFFAFA\"> first</span><span style=\"background-color: #FFF8F8\"> takes</span><span style=\"background-color: #FFFEFE\"> it</span><span style=\"background-color: #FFFEFE\"> as</span><span style=\"background-color: #FFFBFB\"> a</span><span style=\"background-color: #FF0000\"> joke</span><span style=\"background-color: #FFFEFE\"> ,</span><span style=\"background-color: #FFFEFE\"> but</span><span style=\"background-color: #FFFEFE\"> then</span><span style=\"background-color: #FFFDFD\"> the</span><span style=\"background-color: #FFF7F7\"> story</span><span style=\"background-color: #FFFCFC\"> is</span><span style=\"background-color: #FF3F3F\"> confirmed</span><span style=\"background-color: #FFFDFD\"> on</span><span style=\"background-color: #FFFCFC\"> the</span><span style=\"background-color: #FFFCFC\"> evening</span><span style=\"background-color: #FFF4F4\"> news</span><span style=\"background-color: #FFFEFE\"> .</span><span style=\"background-color: #FFFCFC\"> instead</span><span style=\"background-color: #FFFDFD\"> of</span><span style=\"background-color: #FFEDED\"> calling</span><span style=\"background-color: #FFFDFD\"> the</span><span style=\"background-color: #FFEBEB\"> cops</span><span style=\"background-color: #FFFEFE\"> or</span><span style=\"background-color: #FFFCFC\"> the</span><span style=\"background-color: #FFF8F8\"> like</span><span style=\"background-color: #FFFEFE\"> ,</span><span style=\"background-color: #FFFCFC\"> joe</span><span style=\"background-color: #FFF5F5\"> decides</span><span style=\"background-color: #FFFCFC\"> that</span><span style=\"background-color: #FFFEFE\"> ,</span><span style=\"background-color: #FFFAFA\"> since</span><span style=\"background-color: #FFFDFD\"> the</span><span style=\"background-color: #FFF9F9\"> guy</span><span style=\"background-color: #FFFEFE\"> killed</span><span style=\"background-color: #FFFAFA\"> a</span><span style=\"background-color: #FFF4F4\"> hippie</span><span style=\"background-color: #FFFEFE\"> ,</span><span style=\"background-color: #FFFBFB\"> they</span><span style=\"background-color: #FFE2E2\"> must</span><span style=\"background-color: #FFFDFD\"> be</span><span style=\"background-color: #FFFAFA\"> <unk></span><span style=\"background-color: #FF9C9C\"> spirits</span><span style=\"background-color: #FFFEFE\"> he</span><span style=\"background-color: #FFFDFD\"> <unk></span><span style=\"background-color: #FFFDFD\"> the</span><span style=\"background-color: #FFFDFD\"> man</span><span style=\"background-color: #FFFEFE\"> into</span><span style=\"background-color: #FFFEFE\"> becoming</span><span style=\"background-color: #FFFAFA\"> his</span><span style=\"background-color: #FFB9B9\"> pal</span><span style=\"background-color: #FFFEFE\"> .</span><span style=\"background-color: #FFFEFE\"> at</span><span style=\"background-color: #FFFAFA\"> first</span><span style=\"background-color: #FFFEFE\"> ,</span><span style=\"background-color: #FFFCFC\"> the</span><span style=\"background-color: #FFF4F4\"> film</span><span style=\"background-color: #FFD3D3\"> seemed</span><span style=\"background-color: #FFE0E0\"> harsh</span><span style=\"background-color: #FFFEFE\"> and</span><span style=\"background-color: #FFF8F8\"> <unk></span><span style=\"background-color: #FFFDFD\"> ,</span><span style=\"background-color: #FFFDFD\"> but</span><span style=\"background-color: #FFFDFD\"> ,</span><span style=\"background-color: #FFFEFE\"> as</span><span style=\"background-color: #FFFEFE\"> it</span><span style=\"background-color: #FFE7E7\"> revealed</span><span style=\"background-color: #FFF8F8\"> itself</span><span style=\"background-color: #FFFEFE\"> ,</span><span style=\"background-color: #FFFEFE\"> it</span><span style=\"background-color: #FFD6D6\"> actually</span><span style=\"background-color: #FFFDFD\"> became</span><span style=\"background-color: #FFFBFB\"> quite</span><span style=\"background-color: #FFF9F9\"> a</span><span style=\"background-color: #FFF5F5\"> complex</span><span style=\"background-color: #FFDADA\"> portrait</span><span style=\"background-color: #FFFDFD\"> of</span><span style=\"background-color: #FFFCFC\"> the</span><span style=\"background-color: #FFF2F2\"> current</span><span style=\"background-color: #FFFAFA\"> society</span><span style=\"background-color: #FFFEFE\"> .</span><span style=\"background-color: #FFFAFA\"> yes</span><span style=\"background-color: #FFFEFE\"> ,</span><span style=\"background-color: #FFFCFC\"> i</span><span style=\"background-color: #FFF7F7\"> think</span><span style=\"background-color: #FFFEFE\"> it</span><span style=\"background-color: #FFF6F6\"> does</span><span style=\"background-color: #FFFEFE\"> <unk></span><span style=\"background-color: #FFFBFB\"> a</span><span style=\"background-color: #FFFDFD\"> bit</span><span style=\"background-color: #FFFEFE\"> ,</span><span style=\"background-color: #FFFEFE\"> but</span><span style=\"background-color: #FFFEFE\"> in</span><span style=\"background-color: #FF4C4C\"> amusing</span><span style=\"background-color: #FFF3F3\"> ways</span><span style=\"background-color: #FFFDFD\"> that</span><span style=\"background-color: #FFF6F6\"> don</span><span style=\"background-color: #FFF5F5\"> t</span><span style=\"background-color: #FFF0F0\"> really</span><span style=\"background-color: #FFCACA\"> detract</span><span style=\"background-color: #FFFEFE\"> from</span><span style=\"background-color: #FFFDFD\"> the</span><span style=\"background-color: #FFD6D6\"> power</span><span style=\"background-color: #FFFDFD\"> of</span><span style=\"background-color: #FFFEFE\"> its</span><span style=\"background-color: #FFF9F9\"> messages</span><span style=\"background-color: #FFFEFE\"> .</span><span style=\"background-color: #FFFDFD\"> susan</span><span style=\"background-color: #FFFDFD\"> sarandon</span><span style=\"background-color: #FFC6C6\"> debuted</span><span style=\"background-color: #FFFEFE\"> in</span><span style=\"background-color: #FFF8F8\"> this</span><span style=\"background-color: #FFF6F6\"> film</span><span style=\"background-color: #FFFEFE\"> ,</span><span style=\"background-color: #FFFEFE\"> and</span><span style=\"background-color: #FFFEFE\"> it</span><span style=\"background-color: #FFFBFB\"> s</span><span style=\"background-color: #FFF7F7\"> a</span><span style=\"background-color: #FFF1F1\"> shock</span><span style=\"background-color: #FFFCFC\"> to</span><span style=\"background-color: #FFF1F1\"> see</span><span style=\"background-color: #FFFEFE\"> how</span><span style=\"background-color: #FFFCFC\"> pretty</span><span style=\"background-color: #FFFEFE\"> she</span><span style=\"background-color: #FFF8F8\"> was</span><span style=\"background-color: #FFFBFB\"> around</span><span style=\"background-color: #FFFCFC\"> 23</span><span style=\"background-color: #FFFEFE\"> .</span><span style=\"background-color: #FFFCFC\"> well</span><span style=\"background-color: #FFF1F1\"> worth</span><span style=\"background-color: #FFE5E5\"> seeing</span><span style=\"background-color: #FFFEFE\"> .</span><span style=\"background-color: #FFFDFD\"> <eos></span><span style=\"background-color: #FFFFFF\"> <pad></span><span style=\"background-color: #FFFFFF\"> <pad></span><span style=\"background-color: #FFFFFF\"> <pad></span><span style=\"background-color: #FFFFFF\"> <pad></span><span style=\"background-color: #FFFFFF\"> <pad></span><span style=\"background-color: #FFFFFF\"> <pad></span><span style=\"background-color: #FFFFFF\"> <pad></span><span style=\"background-color: #FFFFFF\"> <pad></span><span style=\"background-color: #FFFFFF\"> <pad></span><span style=\"background-color: #FFFFFF\"> <pad></span><span style=\"background-color: #FFFFFF\"> <pad></span><span style=\"background-color: #FFFFFF\"> <pad></span><span style=\"background-color: #FFFFFF\"> <pad></span><span style=\"background-color: #FFFFFF\"> <pad></span><span style=\"background-color: #FFFFFF\"> <pad></span><span style=\"background-color: #FFFFFF\"> <pad></span><span style=\"background-color: #FFFFFF\"> <pad></span><span style=\"background-color: #FFFFFF\"> <pad></span><span style=\"background-color: #FFFFFF\"> <pad></span><span style=\"background-color: #FFFFFF\"> <pad></span><span style=\"background-color: #FFFFFF\"> <pad></span><span style=\"background-color: #FFFFFF\"> <pad></span><span style=\"background-color: #FFFFFF\"> <pad></span><span style=\"background-color: #FFFFFF\"> <pad></span><span style=\"background-color: #FFFFFF\"> <pad></span><span style=\"background-color: #FFFFFF\"> <pad></span><span style=\"background-color: #FFFFFF\"> <pad></span><span style=\"background-color: #FFFFFF\"> <pad></span><span style=\"background-color: #FFFFFF\"> <pad></span><span style=\"background-color: #FFFFFF\"> <pad></span><span style=\"background-color: #FFFFFF\"> <pad></span><span style=\"background-color: #FFFFFF\"> <pad></span><span style=\"background-color: #FFFFFF\"> <pad></span><span style=\"background-color: #FFFFFF\"> <pad></span><span style=\"background-color: #FFFFFF\"> <pad></span><span style=\"background-color: #FFFFFF\"> <pad></span><span style=\"background-color: #FFFFFF\"> <pad></span><span style=\"background-color: #FFFFFF\"> <pad></span><span style=\"background-color: #FFFFFF\"> <pad></span><span style=\"background-color: #FFFFFF\"> <pad></span><span style=\"background-color: #FFFFFF\"> <pad></span><span style=\"background-color: #FFFFFF\"> <pad></span><span style=\"background-color: #FFFFFF\"> <pad></span><span style=\"background-color: #FFFFFF\"> <pad></span><span style=\"background-color: #FFFFFF\"> <pad></span><span style=\"background-color: #FFFFFF\"> <pad></span><span style=\"background-color: #FFFFFF\"> <pad></span><span style=\"background-color: #FFFFFF\"> <pad></span><span style=\"background-color: #FFFFFF\"> <pad></span><span style=\"background-color: #FFFFFF\"> <pad></span><span style=\"background-color: #FFFFFF\"> <pad></span><span style=\"background-color: #FFFFFF\"> <pad></span><span style=\"background-color: #FFFFFF\"> <pad></span><span style=\"background-color: #FFFFFF\"> <pad></span><span style=\"background-color: #FFFFFF\"> <pad></span><span style=\"background-color: #FFFFFF\"> <pad></span><span style=\"background-color: #FFFFFF\"> <pad></span><span style=\"background-color: #FFFFFF\"> <pad></span><span style=\"background-color: #FFFFFF\"> <pad></span><span style=\"background-color: #FFFFFF\"> <pad></span><span style=\"background-color: #FFFFFF\"> <pad></span><span style=\"background-color: #FFFFFF\"> <pad></span><span style=\"background-color: #FFFFFF\"> <pad></span><span style=\"background-color: #FFFFFF\"> <pad></span><span style=\"background-color: #FFFFFF\"> <pad></span><span style=\"background-color: #FFFFFF\"> <pad></span><span style=\"background-color: #FFFFFF\"> <pad></span><span style=\"background-color: #FFFFFF\"> <pad></span><span style=\"background-color: #FFFFFF\"> <pad></span><span style=\"background-color: #FFFFFF\"> <pad></span><span style=\"background-color: #FFFFFF\"> <pad></span><span style=\"background-color: #FFFFFF\"> <pad></span><span style=\"background-color: #FFFFFF\"> <pad></span><span style=\"background-color: #FFFFFF\"> <pad></span><span style=\"background-color: #FFFFFF\"> <pad></span><span style=\"background-color: #FFFFFF\"> <pad></span><span style=\"background-color: #FFFFFF\"> <pad></span><span style=\"background-color: #FFFFFF\"> <pad></span><span style=\"background-color: #FFFFFF\"> <pad></span><span style=\"background-color: #FFFFFF\"> <pad></span><span style=\"background-color: #FFFFFF\"> <pad></span><span style=\"background-color: #FFFFFF\"> <pad></span><span style=\"background-color: #FFFFFF\"> <pad></span><span style=\"background-color: #FFFFFF\"> <pad></span><span style=\"background-color: #FFFFFF\"> <pad></span><span style=\"background-color: #FFFFFF\"> <pad></span><span style=\"background-color: #FFFFFF\"> <pad></span><br><br>[TransformerBlockの2段目のAttentionを可視化]<br><span style=\"background-color: #FFFCFC\"> <cls></span><span style=\"background-color: #FFF6F6\"> dennis</span><span style=\"background-color: #FFFCFC\"> patrick</span><span style=\"background-color: #FFF9F9\"> plays</span><span style=\"background-color: #FFFAFA\"> a</span><span style=\"background-color: #FFCCCC\"> man</span><span style=\"background-color: #FFFBFB\"> who</span><span style=\"background-color: #FFEFEF\"> accidentally</span><span style=\"background-color: #FFB7B7\"> kills</span><span style=\"background-color: #FFF6F6\"> his</span><span style=\"background-color: #FFFCFC\"> daughter</span><span style=\"background-color: #FFFCFC\"> s</span><span style=\"background-color: #FFFDFD\"> boyfriend</span><span style=\"background-color: #FFFDFD\"> and</span><span style=\"background-color: #FFFCFC\"> then</span><span style=\"background-color: #FFFBFB\"> reveals</span><span style=\"background-color: #FFF4F4\"> his</span><span style=\"background-color: #FFF9F9\"> secret</span><span style=\"background-color: #FFFBFB\"> at</span><span style=\"background-color: #FFFCFC\"> a</span><span style=\"background-color: #FFFAFA\"> local</span><span style=\"background-color: #FFFAFA\"> bar</span><span style=\"background-color: #FFF7F7\"> .</span><span style=\"background-color: #FFFAFA\"> joe</span><span style=\"background-color: #FFF8F8\"> peter</span><span style=\"background-color: #FFFBFB\"> boyle</span><span style=\"background-color: #FFF2F2\"> ,</span><span style=\"background-color: #FFFCFC\"> a</span><span style=\"background-color: #FFFDFD\"> <unk></span><span style=\"background-color: #FFFCFC\"> who</span><span style=\"background-color: #FFDBDB\"> is</span><span style=\"background-color: #FFFDFD\"> getting</span><span style=\"background-color: #FFEBEB\"> drunk</span><span style=\"background-color: #FFF6F6\"> there</span><span style=\"background-color: #FFF1F1\"> ,</span><span style=\"background-color: #FFFBFB\"> at</span><span style=\"background-color: #FFFEFE\"> first</span><span style=\"background-color: #FFFCFC\"> takes</span><span style=\"background-color: #FFF7F7\"> it</span><span style=\"background-color: #FFF7F7\"> as</span><span style=\"background-color: #FFFCFC\"> a</span><span style=\"background-color: #FFF7F7\"> joke</span><span style=\"background-color: #FFF7F7\"> ,</span><span style=\"background-color: #FFF8F8\"> but</span><span style=\"background-color: #FFFDFD\"> then</span><span style=\"background-color: #FFFEFE\"> the</span><span style=\"background-color: #FFF9F9\"> story</span><span style=\"background-color: #FFDEDE\"> is</span><span style=\"background-color: #FFECEC\"> confirmed</span><span style=\"background-color: #FFFDFD\"> on</span><span style=\"background-color: #FFFEFE\"> the</span><span style=\"background-color: #FFF7F7\"> evening</span><span style=\"background-color: #FFFCFC\"> news</span><span style=\"background-color: #FFF7F7\"> .</span><span style=\"background-color: #FFEFEF\"> instead</span><span style=\"background-color: #FFFDFD\"> of</span><span style=\"background-color: #FFFDFD\"> calling</span><span style=\"background-color: #FFFEFE\"> the</span><span style=\"background-color: #FFFCFC\"> cops</span><span style=\"background-color: #FFF7F7\"> or</span><span style=\"background-color: #FFFEFE\"> the</span><span style=\"background-color: #FFEFEF\"> like</span><span style=\"background-color: #FFE9E9\"> ,</span><span style=\"background-color: #FFF9F9\"> joe</span><span style=\"background-color: #FFFBFB\"> decides</span><span style=\"background-color: #FFFBFB\"> that</span><span style=\"background-color: #FFF2F2\"> ,</span><span style=\"background-color: #FFF9F9\"> since</span><span style=\"background-color: #FFFEFE\"> the</span><span style=\"background-color: #FFF5F5\"> guy</span><span style=\"background-color: #FFD8D8\"> killed</span><span style=\"background-color: #FFFCFC\"> a</span><span style=\"background-color: #FFFDFD\"> hippie</span><span style=\"background-color: #FFEEEE\"> ,</span><span style=\"background-color: #FFF9F9\"> they</span><span style=\"background-color: #FFFEFE\"> must</span><span style=\"background-color: #FFECEC\"> be</span><span style=\"background-color: #FFFEFE\"> <unk></span><span style=\"background-color: #FFF3F3\"> spirits</span><span style=\"background-color: #FFD2D2\"> he</span><span style=\"background-color: #FFFEFE\"> <unk></span><span style=\"background-color: #FFFDFD\"> the</span><span style=\"background-color: #FFC3C3\"> man</span><span style=\"background-color: #FFFAFA\"> into</span><span style=\"background-color: #FFFBFB\"> becoming</span><span style=\"background-color: #FFF2F2\"> his</span><span style=\"background-color: #FF9999\"> pal</span><span style=\"background-color: #FFF9F9\"> .</span><span style=\"background-color: #FFFAFA\"> at</span><span style=\"background-color: #FFFDFD\"> first</span><span style=\"background-color: #FFE8E8\"> ,</span><span style=\"background-color: #FFFEFE\"> the</span><span style=\"background-color: #FFF9F9\"> film</span><span style=\"background-color: #FFF4F4\"> seemed</span><span style=\"background-color: #FFCBCB\"> harsh</span><span style=\"background-color: #FFFDFD\"> and</span><span style=\"background-color: #FFFEFE\"> <unk></span><span style=\"background-color: #FFF0F0\"> ,</span><span style=\"background-color: #FFF6F6\"> but</span><span style=\"background-color: #FFEEEE\"> ,</span><span style=\"background-color: #FFF4F4\"> as</span><span style=\"background-color: #FFF7F7\"> it</span><span style=\"background-color: #FFFCFC\"> revealed</span><span style=\"background-color: #FFF0F0\"> itself</span><span style=\"background-color: #FFEDED\"> ,</span><span style=\"background-color: #FFF1F1\"> it</span><span style=\"background-color: #FFFBFB\"> actually</span><span style=\"background-color: #FFFEFE\"> became</span><span style=\"background-color: #FFCECE\"> quite</span><span style=\"background-color: #FFFCFC\"> a</span><span style=\"background-color: #FFE9E9\"> complex</span><span style=\"background-color: #FFF2F2\"> portrait</span><span style=\"background-color: #FFFDFD\"> of</span><span style=\"background-color: #FFFEFE\"> the</span><span style=\"background-color: #FFFBFB\"> current</span><span style=\"background-color: #FFFDFD\"> society</span><span style=\"background-color: #FFF9F9\"> .</span><span style=\"background-color: #FFCDCD\"> yes</span><span style=\"background-color: #FFE5E5\"> ,</span><span style=\"background-color: #FFF9F9\"> i</span><span style=\"background-color: #FFFBFB\"> think</span><span style=\"background-color: #FFEFEF\"> it</span><span style=\"background-color: #FFFCFC\"> does</span><span style=\"background-color: #FFFAFA\"> <unk></span><span style=\"background-color: #FFFAFA\"> a</span><span style=\"background-color: #FFEBEB\"> bit</span><span style=\"background-color: #FFEBEB\"> ,</span><span style=\"background-color: #FFF6F6\"> but</span><span style=\"background-color: #FFFCFC\"> in</span><span style=\"background-color: #FF0000\"> amusing</span><span style=\"background-color: #FFDCDC\"> ways</span><span style=\"background-color: #FFFAFA\"> that</span><span style=\"background-color: #FFE9E9\"> don</span><span style=\"background-color: #FFEEEE\"> t</span><span style=\"background-color: #FFF5F5\"> really</span><span style=\"background-color: #FFF8F8\"> detract</span><span style=\"background-color: #FFFBFB\"> from</span><span style=\"background-color: #FFFEFE\"> the</span><span style=\"background-color: #FFF1F1\"> power</span><span style=\"background-color: #FFFDFD\"> of</span><span style=\"background-color: #FFF6F6\"> its</span><span style=\"background-color: #FFF8F8\"> messages</span><span style=\"background-color: #FFF8F8\"> .</span><span style=\"background-color: #FFF6F6\"> susan</span><span style=\"background-color: #FFFAFA\"> sarandon</span><span style=\"background-color: #FFFEFE\"> debuted</span><span style=\"background-color: #FFFCFC\"> in</span><span style=\"background-color: #FFF6F6\"> this</span><span style=\"background-color: #FFFAFA\"> film</span><span style=\"background-color: #FFE1E1\"> ,</span><span style=\"background-color: #FFFAFA\"> and</span><span style=\"background-color: #FFEFEF\"> it</span><span style=\"background-color: #FFFAFA\"> s</span><span style=\"background-color: #FFFCFC\"> a</span><span style=\"background-color: #FFF5F5\"> shock</span><span style=\"background-color: #FFFDFD\"> to</span><span style=\"background-color: #FFFBFB\"> see</span><span style=\"background-color: #FFEBEB\"> how</span><span style=\"background-color: #FF3E3E\"> pretty</span><span style=\"background-color: #FFF4F4\"> she</span><span style=\"background-color: #FFFCFC\"> was</span><span style=\"background-color: #FFF4F4\"> around</span><span style=\"background-color: #FFF9F9\"> 23</span><span style=\"background-color: #FFFAFA\"> .</span><span style=\"background-color: #FF7E7E\"> well</span><span style=\"background-color: #FFD2D2\"> worth</span><span style=\"background-color: #FFFDFD\"> seeing</span><span style=\"background-color: #FFF3F3\"> .</span><span style=\"background-color: #FFF9F9\"> <eos></span><span style=\"background-color: #FFFFFF\"> <pad></span><span style=\"background-color: #FFFFFF\"> <pad></span><span style=\"background-color: #FFFFFF\"> <pad></span><span style=\"background-color: #FFFFFF\"> <pad></span><span style=\"background-color: #FFFFFF\"> <pad></span><span style=\"background-color: #FFFFFF\"> <pad></span><span style=\"background-color: #FFFFFF\"> <pad></span><span style=\"background-color: #FFFFFF\"> <pad></span><span style=\"background-color: #FFFFFF\"> <pad></span><span style=\"background-color: #FFFFFF\"> <pad></span><span style=\"background-color: #FFFFFF\"> <pad></span><span style=\"background-color: #FFFFFF\"> <pad></span><span style=\"background-color: #FFFFFF\"> <pad></span><span style=\"background-color: #FFFFFF\"> <pad></span><span style=\"background-color: #FFFFFF\"> <pad></span><span style=\"background-color: #FFFFFF\"> <pad></span><span style=\"background-color: #FFFFFF\"> <pad></span><span style=\"background-color: #FFFFFF\"> <pad></span><span style=\"background-color: #FFFFFF\"> <pad></span><span style=\"background-color: #FFFFFF\"> <pad></span><span style=\"background-color: #FFFFFF\"> <pad></span><span style=\"background-color: #FFFFFF\"> <pad></span><span style=\"background-color: #FFFFFF\"> <pad></span><span style=\"background-color: #FFFFFF\"> <pad></span><span style=\"background-color: #FFFFFF\"> <pad></span><span style=\"background-color: #FFFFFF\"> <pad></span><span style=\"background-color: #FFFFFF\"> <pad></span><span style=\"background-color: #FFFFFF\"> <pad></span><span style=\"background-color: #FFFFFF\"> <pad></span><span style=\"background-color: #FFFFFF\"> <pad></span><span style=\"background-color: #FFFFFF\"> <pad></span><span style=\"background-color: #FFFFFF\"> <pad></span><span style=\"background-color: #FFFFFF\"> <pad></span><span style=\"background-color: #FFFFFF\"> <pad></span><span style=\"background-color: #FFFFFF\"> <pad></span><span style=\"background-color: #FFFFFF\"> <pad></span><span style=\"background-color: #FFFFFF\"> <pad></span><span style=\"background-color: #FFFFFF\"> <pad></span><span style=\"background-color: #FFFFFF\"> <pad></span><span style=\"background-color: #FFFFFF\"> <pad></span><span style=\"background-color: #FFFFFF\"> <pad></span><span style=\"background-color: #FFFFFF\"> <pad></span><span style=\"background-color: #FFFFFF\"> <pad></span><span style=\"background-color: #FFFFFF\"> <pad></span><span style=\"background-color: #FFFFFF\"> <pad></span><span style=\"background-color: #FFFFFF\"> <pad></span><span style=\"background-color: #FFFFFF\"> <pad></span><span style=\"background-color: #FFFFFF\"> <pad></span><span style=\"background-color: #FFFFFF\"> <pad></span><span style=\"background-color: #FFFFFF\"> <pad></span><span style=\"background-color: #FFFFFF\"> <pad></span><span style=\"background-color: #FFFFFF\"> <pad></span><span style=\"background-color: #FFFFFF\"> <pad></span><span style=\"background-color: #FFFFFF\"> <pad></span><span style=\"background-color: #FFFFFF\"> <pad></span><span style=\"background-color: #FFFFFF\"> <pad></span><span style=\"background-color: #FFFFFF\"> <pad></span><span style=\"background-color: #FFFFFF\"> <pad></span><span style=\"background-color: #FFFFFF\"> <pad></span><span style=\"background-color: #FFFFFF\"> <pad></span><span style=\"background-color: #FFFFFF\"> <pad></span><span style=\"background-color: #FFFFFF\"> <pad></span><span style=\"background-color: #FFFFFF\"> <pad></span><span style=\"background-color: #FFFFFF\"> <pad></span><span style=\"background-color: #FFFFFF\"> <pad></span><span style=\"background-color: #FFFFFF\"> <pad></span><span style=\"background-color: #FFFFFF\"> <pad></span><span style=\"background-color: #FFFFFF\"> <pad></span><span style=\"background-color: #FFFFFF\"> <pad></span><span style=\"background-color: #FFFFFF\"> <pad></span><span style=\"background-color: #FFFFFF\"> <pad></span><span style=\"background-color: #FFFFFF\"> <pad></span><span style=\"background-color: #FFFFFF\"> <pad></span><span style=\"background-color: #FFFFFF\"> <pad></span><span style=\"background-color: #FFFFFF\"> <pad></span><span style=\"background-color: #FFFFFF\"> <pad></span><span style=\"background-color: #FFFFFF\"> <pad></span><span style=\"background-color: #FFFFFF\"> <pad></span><span style=\"background-color: #FFFFFF\"> <pad></span><span style=\"background-color: #FFFFFF\"> <pad></span><span style=\"background-color: #FFFFFF\"> <pad></span><span style=\"background-color: #FFFFFF\"> <pad></span><span style=\"background-color: #FFFFFF\"> <pad></span><span style=\"background-color: #FFFFFF\"> <pad></span><span style=\"background-color: #FFFFFF\"> <pad></span><span style=\"background-color: #FFFFFF\"> <pad></span><span style=\"background-color: #FFFFFF\"> <pad></span><br><br>"
            ],
            "text/plain": [
              "<IPython.core.display.HTML object>"
            ]
          },
          "metadata": {
            "tags": []
          },
          "execution_count": 20
        }
      ]
    },
    {
      "cell_type": "code",
      "metadata": {
        "id": "nqW9l3CBcYJJ",
        "colab_type": "code",
        "colab": {
          "base_uri": "https://localhost:8080/",
          "height": 306
        },
        "outputId": "44b7332d-5cbe-4b00-93b5-645a26feb5f0"
      },
      "source": [
        "index = 61  # 出力させたいデータ\n",
        "html_output = mk_html(index, batch, preds, normlized_weights_1,\n",
        "                      normlized_weights_2, TEXT)  # HTML作成\n",
        "HTML(html_output)  # HTML形式で出力\n"
      ],
      "execution_count": 21,
      "outputs": [
        {
          "output_type": "execute_result",
          "data": {
            "text/html": [
              "正解ラベル：Positive<br>推論ラベル：Negative<br><br>[TransformerBlockの1段目のAttentionを可視化]<br><span style=\"background-color: #FFF5F5\"> <cls></span><span style=\"background-color: #FFEFEF\"> this</span><span style=\"background-color: #FFFAFA\"> is</span><span style=\"background-color: #FFF8F8\"> a</span><span style=\"background-color: #FFFBFB\"> low</span><span style=\"background-color: #FFF8F8\"> budget</span><span style=\"background-color: #FFE6E6\"> stop</span><span style=\"background-color: #FFF9F9\"> motion</span><span style=\"background-color: #FFF8F8\"> monster</span><span style=\"background-color: #FFD3D3\"> movie</span><span style=\"background-color: #FFFEFE\"> from</span><span style=\"background-color: #FFBCBC\"> brett</span><span style=\"background-color: #FFFAFA\"> a</span><span style=\"background-color: #FFFDFD\"> <unk></span><span style=\"background-color: #FFFCFC\"> barbarian</span><span style=\"background-color: #FFFEFE\"> in</span><span style=\"background-color: #FFFCFC\"> dinosaur</span><span style=\"background-color: #FFFDFD\"> hell</span><span style=\"background-color: #FFFEFE\"> piper</span><span style=\"background-color: #FFFEFE\"> .</span><span style=\"background-color: #FFFEFE\"> .</span><span style=\"background-color: #FFFEFE\"> .</span><span style=\"background-color: #FFFEFE\"> and</span><span style=\"background-color: #FFFEFE\"> it</span><span style=\"background-color: #FFFAFA\"> delivers</span><span style=\"background-color: #FFF2F2\"> just</span><span style=\"background-color: #FFFDFD\"> what</span><span style=\"background-color: #FFFBFB\"> i</span><span style=\"background-color: #FFFEFE\"> d</span><span style=\"background-color: #FFF5F5\"> expect</span><span style=\"background-color: #FFFEFE\"> from</span><span style=\"background-color: #FFFBFB\"> such</span><span style=\"background-color: #FFFAFA\"> a</span><span style=\"background-color: #FFEFEF\"> production</span><span style=\"background-color: #FFD5D5\"> light</span><span style=\"background-color: #FFC3C3\"> hearted</span><span style=\"background-color: #FFFBFB\"> though</span><span style=\"background-color: #FF9D9D\"> cheesy</span><span style=\"background-color: #FF8E8E\"> dialogue</span><span style=\"background-color: #FFFEFE\"> ,</span><span style=\"background-color: #FFFDFD\"> some</span><span style=\"background-color: #FFC8C8\"> cute</span><span style=\"background-color: #FFFAFA\"> actresses</span><span style=\"background-color: #FFFEFE\"> and</span><span style=\"background-color: #FFF6F6\"> lots</span><span style=\"background-color: #FFFDFD\"> of</span><span style=\"background-color: #FFE5E5\"> stop</span><span style=\"background-color: #FFF9F9\"> motion</span><span style=\"background-color: #FFF6F6\"> critters</span><span style=\"background-color: #FFFEFE\"> .</span><span style=\"background-color: #FFFCFC\"> that</span><span style=\"background-color: #FFFBFB\"> s</span><span style=\"background-color: #FFFDFD\"> why</span><span style=\"background-color: #FFFCFC\"> i</span><span style=\"background-color: #FFFBFB\"> ve</span><span style=\"background-color: #FFF8F8\"> given</span><span style=\"background-color: #FFFDFD\"> the</span><span style=\"background-color: #FFF5F5\"> film</span><span style=\"background-color: #FFFBFB\"> 10</span><span style=\"background-color: #FFFBFB\"> out</span><span style=\"background-color: #FFFDFD\"> of</span><span style=\"background-color: #FFFBFB\"> 10</span><span style=\"background-color: #FFFDFD\"> because</span><span style=\"background-color: #FFFEFE\"> it</span><span style=\"background-color: #FFFAFA\"> delivers</span><span style=\"background-color: #FFFDFD\"> what</span><span style=\"background-color: #FFFBFB\"> i</span><span style=\"background-color: #FFDCDC\"> expected</span><span style=\"background-color: #FFFEFE\"> it</span><span style=\"background-color: #FFFDFD\"> to</span><span style=\"background-color: #FFFCFC\"> deliver</span><span style=\"background-color: #FFFEFE\"> .</span><span style=\"background-color: #FFFEFE\"> .</span><span style=\"background-color: #FFFEFE\"> .</span><span style=\"background-color: #FFFEFE\"> and</span><span style=\"background-color: #FFF7F7\"> a</span><span style=\"background-color: #FFFCFC\"> bit</span><span style=\"background-color: #FFFEFE\"> more</span><span style=\"background-color: #FFBDBD\"> brett</span><span style=\"background-color: #FFF2F2\"> doesn</span><span style=\"background-color: #FFF2F2\"> t</span><span style=\"background-color: #FFFCFC\"> penny</span><span style=\"background-color: #FFFCFC\"> <unk></span><span style=\"background-color: #FFFEFE\"> when</span><span style=\"background-color: #FFFDFD\"> it</span><span style=\"background-color: #FFE9E9\"> comes</span><span style=\"background-color: #FFFDFD\"> to</span><span style=\"background-color: #FFFAFA\"> putting</span><span style=\"background-color: #FFFBFB\"> his</span><span style=\"background-color: #FFF5F5\"> critters</span><span style=\"background-color: #FFFDFD\"> on</span><span style=\"background-color: #FFF2F2\"> screen</span><span style=\"background-color: #FFFEFE\"> .</span><span style=\"background-color: #FFFEFE\"> he</span><span style=\"background-color: #FFFCFC\"> <unk></span><span style=\"background-color: #FFF5F5\"> lots</span><span style=\"background-color: #FFFCFC\"> of</span><span style=\"background-color: #FFB6B6\"> bugs</span><span style=\"background-color: #FFFEFE\"> at</span><span style=\"background-color: #FFF9F9\"> his</span><span style=\"background-color: #FFCBCB\"> cast</span><span style=\"background-color: #FFFEFE\"> for</span><span style=\"background-color: #FFFCFC\"> the</span><span style=\"background-color: #FFE1E1\"> finale</span><span style=\"background-color: #FFFEFE\"> .</span><span style=\"background-color: #FFFEFE\"> and</span><span style=\"background-color: #FFFEFE\"> ,</span><span style=\"background-color: #FFFEFE\"> anyway</span><span style=\"background-color: #FFFEFE\"> ,</span><span style=\"background-color: #FFFBFB\"> i</span><span style=\"background-color: #FFC5C5\"> love</span><span style=\"background-color: #FFE1E1\"> stop</span><span style=\"background-color: #FFF8F8\"> motion</span><span style=\"background-color: #FFE8E8\"> monsters</span><span style=\"background-color: #FFFEFE\"> which</span><span style=\"background-color: #FFFEFE\"> ,</span><span style=\"background-color: #FFF1F1\"> compared</span><span style=\"background-color: #FFFDFD\"> to</span><span style=\"background-color: #FFFDFD\"> cgi</span><span style=\"background-color: #FFF7F7\"> critters</span><span style=\"background-color: #FFFEFE\"> in</span><span style=\"background-color: #FFF3F3\"> bigger</span><span style=\"background-color: #FFDBDB\"> budgeted</span><span style=\"background-color: #FFECEC\"> movies</span><span style=\"background-color: #FFFEFE\"> ,</span><span style=\"background-color: #FFF8F8\"> just</span><span style=\"background-color: #FFE2E2\"> seem</span><span style=\"background-color: #FFFDFD\"> to</span><span style=\"background-color: #FFFDFD\"> be</span><span style=\"background-color: #FFFDFD\"> that</span><span style=\"background-color: #FFFBFB\"> much</span><span style=\"background-color: #FF0000\"> fun</span><span style=\"background-color: #FFFDFD\"> to</span><span style=\"background-color: #FFF4F4\"> watch</span><span style=\"background-color: #FFFEFE\"> .</span><span style=\"background-color: #FFFEFE\"> <eos></span><span style=\"background-color: #FFFFFF\"> <pad></span><span style=\"background-color: #FFFFFF\"> <pad></span><span style=\"background-color: #FFFFFF\"> <pad></span><span style=\"background-color: #FFFFFF\"> <pad></span><span style=\"background-color: #FFFFFF\"> <pad></span><span style=\"background-color: #FFFFFF\"> <pad></span><span style=\"background-color: #FFFFFF\"> <pad></span><span style=\"background-color: #FFFFFF\"> <pad></span><span style=\"background-color: #FFFFFF\"> <pad></span><span style=\"background-color: #FFFFFF\"> <pad></span><span style=\"background-color: #FFFFFF\"> <pad></span><span style=\"background-color: #FFFFFF\"> <pad></span><span style=\"background-color: #FFFFFF\"> <pad></span><span style=\"background-color: #FFFFFF\"> <pad></span><span style=\"background-color: #FFFFFF\"> <pad></span><span style=\"background-color: #FFFFFF\"> <pad></span><span style=\"background-color: #FFFFFF\"> <pad></span><span style=\"background-color: #FFFFFF\"> <pad></span><span style=\"background-color: #FFFFFF\"> <pad></span><span style=\"background-color: #FFFFFF\"> <pad></span><span style=\"background-color: #FFFFFF\"> <pad></span><span style=\"background-color: #FFFFFF\"> <pad></span><span style=\"background-color: #FFFFFF\"> <pad></span><span style=\"background-color: #FFFFFF\"> <pad></span><span style=\"background-color: #FFFFFF\"> <pad></span><span style=\"background-color: #FFFFFF\"> <pad></span><span style=\"background-color: #FFFFFF\"> <pad></span><span style=\"background-color: #FFFFFF\"> <pad></span><span style=\"background-color: #FFFFFF\"> <pad></span><span style=\"background-color: #FFFFFF\"> <pad></span><span style=\"background-color: #FFFFFF\"> <pad></span><span style=\"background-color: #FFFFFF\"> <pad></span><span style=\"background-color: #FFFFFF\"> <pad></span><span style=\"background-color: #FFFFFF\"> <pad></span><span style=\"background-color: #FFFFFF\"> <pad></span><span style=\"background-color: #FFFFFF\"> <pad></span><span style=\"background-color: #FFFFFF\"> <pad></span><span style=\"background-color: #FFFFFF\"> <pad></span><span style=\"background-color: #FFFFFF\"> <pad></span><span style=\"background-color: #FFFFFF\"> <pad></span><span style=\"background-color: #FFFFFF\"> <pad></span><span style=\"background-color: #FFFFFF\"> <pad></span><span style=\"background-color: #FFFFFF\"> <pad></span><span style=\"background-color: #FFFFFF\"> <pad></span><span style=\"background-color: #FFFFFF\"> <pad></span><span style=\"background-color: #FFFFFF\"> <pad></span><span style=\"background-color: #FFFFFF\"> <pad></span><span style=\"background-color: #FFFFFF\"> <pad></span><span style=\"background-color: #FFFFFF\"> <pad></span><span style=\"background-color: #FFFFFF\"> <pad></span><span style=\"background-color: #FFFFFF\"> <pad></span><span style=\"background-color: #FFFFFF\"> <pad></span><span style=\"background-color: #FFFFFF\"> <pad></span><span style=\"background-color: #FFFFFF\"> <pad></span><span style=\"background-color: #FFFFFF\"> <pad></span><span style=\"background-color: #FFFFFF\"> <pad></span><span style=\"background-color: #FFFFFF\"> <pad></span><span style=\"background-color: #FFFFFF\"> <pad></span><span style=\"background-color: #FFFFFF\"> <pad></span><span style=\"background-color: #FFFFFF\"> <pad></span><span style=\"background-color: #FFFFFF\"> <pad></span><span style=\"background-color: #FFFFFF\"> <pad></span><span style=\"background-color: #FFFFFF\"> <pad></span><span style=\"background-color: #FFFFFF\"> <pad></span><span style=\"background-color: #FFFFFF\"> <pad></span><span style=\"background-color: #FFFFFF\"> <pad></span><span style=\"background-color: #FFFFFF\"> <pad></span><span style=\"background-color: #FFFFFF\"> <pad></span><span style=\"background-color: #FFFFFF\"> <pad></span><span style=\"background-color: #FFFFFF\"> <pad></span><span style=\"background-color: #FFFFFF\"> <pad></span><span style=\"background-color: #FFFFFF\"> <pad></span><span style=\"background-color: #FFFFFF\"> <pad></span><span style=\"background-color: #FFFFFF\"> <pad></span><span style=\"background-color: #FFFFFF\"> <pad></span><span style=\"background-color: #FFFFFF\"> <pad></span><span style=\"background-color: #FFFFFF\"> <pad></span><span style=\"background-color: #FFFFFF\"> <pad></span><span style=\"background-color: #FFFFFF\"> <pad></span><span style=\"background-color: #FFFFFF\"> <pad></span><span style=\"background-color: #FFFFFF\"> <pad></span><span style=\"background-color: #FFFFFF\"> <pad></span><span style=\"background-color: #FFFFFF\"> <pad></span><span style=\"background-color: #FFFFFF\"> <pad></span><span style=\"background-color: #FFFFFF\"> <pad></span><span style=\"background-color: #FFFFFF\"> <pad></span><span style=\"background-color: #FFFFFF\"> <pad></span><span style=\"background-color: #FFFFFF\"> <pad></span><span style=\"background-color: #FFFFFF\"> <pad></span><span style=\"background-color: #FFFFFF\"> <pad></span><span style=\"background-color: #FFFFFF\"> <pad></span><span style=\"background-color: #FFFFFF\"> <pad></span><span style=\"background-color: #FFFFFF\"> <pad></span><span style=\"background-color: #FFFFFF\"> <pad></span><span style=\"background-color: #FFFFFF\"> <pad></span><span style=\"background-color: #FFFFFF\"> <pad></span><span style=\"background-color: #FFFFFF\"> <pad></span><span style=\"background-color: #FFFFFF\"> <pad></span><span style=\"background-color: #FFFFFF\"> <pad></span><span style=\"background-color: #FFFFFF\"> <pad></span><span style=\"background-color: #FFFFFF\"> <pad></span><span style=\"background-color: #FFFFFF\"> <pad></span><span style=\"background-color: #FFFFFF\"> <pad></span><span style=\"background-color: #FFFFFF\"> <pad></span><span style=\"background-color: #FFFFFF\"> <pad></span><span style=\"background-color: #FFFFFF\"> <pad></span><span style=\"background-color: #FFFFFF\"> <pad></span><span style=\"background-color: #FFFFFF\"> <pad></span><span style=\"background-color: #FFFFFF\"> <pad></span><span style=\"background-color: #FFFFFF\"> <pad></span><span style=\"background-color: #FFFFFF\"> <pad></span><span style=\"background-color: #FFFFFF\"> <pad></span><span style=\"background-color: #FFFFFF\"> <pad></span><span style=\"background-color: #FFFFFF\"> <pad></span><span style=\"background-color: #FFFFFF\"> <pad></span><span style=\"background-color: #FFFFFF\"> <pad></span><span style=\"background-color: #FFFFFF\"> <pad></span><span style=\"background-color: #FFFFFF\"> <pad></span><span style=\"background-color: #FFFFFF\"> <pad></span><span style=\"background-color: #FFFFFF\"> <pad></span><br><br>[TransformerBlockの2段目のAttentionを可視化]<br><span style=\"background-color: #FFFDFD\"> <cls></span><span style=\"background-color: #FFFAFA\"> this</span><span style=\"background-color: #FFF7F7\"> is</span><span style=\"background-color: #FFFEFE\"> a</span><span style=\"background-color: #FF0000\"> low</span><span style=\"background-color: #FFF5F5\"> budget</span><span style=\"background-color: #FFB9B9\"> stop</span><span style=\"background-color: #FFF8F8\"> motion</span><span style=\"background-color: #FFCBCB\"> monster</span><span style=\"background-color: #FFFEFE\"> movie</span><span style=\"background-color: #FFFEFE\"> from</span><span style=\"background-color: #FFFAFA\"> brett</span><span style=\"background-color: #FFFEFE\"> a</span><span style=\"background-color: #FFFEFE\"> <unk></span><span style=\"background-color: #FFF9F9\"> barbarian</span><span style=\"background-color: #FFFDFD\"> in</span><span style=\"background-color: #FF9A9A\"> dinosaur</span><span style=\"background-color: #FFE7E7\"> hell</span><span style=\"background-color: #FFFCFC\"> piper</span><span style=\"background-color: #FFFCFC\"> .</span><span style=\"background-color: #FFFCFC\"> .</span><span style=\"background-color: #FFFBFB\"> .</span><span style=\"background-color: #FFFEFE\"> and</span><span style=\"background-color: #FFFDFD\"> it</span><span style=\"background-color: #FF8282\"> delivers</span><span style=\"background-color: #FFFEFE\"> just</span><span style=\"background-color: #FFFCFC\"> what</span><span style=\"background-color: #FFFDFD\"> i</span><span style=\"background-color: #FFFBFB\"> d</span><span style=\"background-color: #FFFAFA\"> expect</span><span style=\"background-color: #FFFDFD\"> from</span><span style=\"background-color: #FFC8C8\"> such</span><span style=\"background-color: #FFFEFE\"> a</span><span style=\"background-color: #FFFDFD\"> production</span><span style=\"background-color: #FFEEEE\"> light</span><span style=\"background-color: #FF8080\"> hearted</span><span style=\"background-color: #FFEBEB\"> though</span><span style=\"background-color: #FF5656\"> cheesy</span><span style=\"background-color: #FFFDFD\"> dialogue</span><span style=\"background-color: #FFFEFE\"> ,</span><span style=\"background-color: #FFE8E8\"> some</span><span style=\"background-color: #FFCFCF\"> cute</span><span style=\"background-color: #FFFEFE\"> actresses</span><span style=\"background-color: #FFFEFE\"> and</span><span style=\"background-color: #FFF2F2\"> lots</span><span style=\"background-color: #FFFDFD\"> of</span><span style=\"background-color: #FFD3D3\"> stop</span><span style=\"background-color: #FFF9F9\"> motion</span><span style=\"background-color: #FFE8E8\"> critters</span><span style=\"background-color: #FFFCFC\"> .</span><span style=\"background-color: #FFFDFD\"> that</span><span style=\"background-color: #FFFDFD\"> s</span><span style=\"background-color: #FFFBFB\"> why</span><span style=\"background-color: #FFFCFC\"> i</span><span style=\"background-color: #FFF8F8\"> ve</span><span style=\"background-color: #FFFBFB\"> given</span><span style=\"background-color: #FFFEFE\"> the</span><span style=\"background-color: #FFFEFE\"> film</span><span style=\"background-color: #FFFDFD\"> 10</span><span style=\"background-color: #FFF0F0\"> out</span><span style=\"background-color: #FFFDFD\"> of</span><span style=\"background-color: #FFFCFC\"> 10</span><span style=\"background-color: #FFFBFB\"> because</span><span style=\"background-color: #FFFCFC\"> it</span><span style=\"background-color: #FF5D5D\"> delivers</span><span style=\"background-color: #FFF9F9\"> what</span><span style=\"background-color: #FFFCFC\"> i</span><span style=\"background-color: #FFFDFD\"> expected</span><span style=\"background-color: #FFFDFD\"> it</span><span style=\"background-color: #FFFEFE\"> to</span><span style=\"background-color: #FF9393\"> deliver</span><span style=\"background-color: #FFFBFB\"> .</span><span style=\"background-color: #FFFBFB\"> .</span><span style=\"background-color: #FFFAFA\"> .</span><span style=\"background-color: #FFFDFD\"> and</span><span style=\"background-color: #FFFEFE\"> a</span><span style=\"background-color: #FFF4F4\"> bit</span><span style=\"background-color: #FFC4C4\"> more</span><span style=\"background-color: #FFF8F8\"> brett</span><span style=\"background-color: #FFFBFB\"> doesn</span><span style=\"background-color: #FFEBEB\"> t</span><span style=\"background-color: #FFF5F5\"> penny</span><span style=\"background-color: #FFFEFE\"> <unk></span><span style=\"background-color: #FFFCFC\"> when</span><span style=\"background-color: #FFFDFD\"> it</span><span style=\"background-color: #FFFDFD\"> comes</span><span style=\"background-color: #FFFEFE\"> to</span><span style=\"background-color: #FFFDFD\"> putting</span><span style=\"background-color: #FFF7F7\"> his</span><span style=\"background-color: #FFE6E6\"> critters</span><span style=\"background-color: #FFFEFE\"> on</span><span style=\"background-color: #FFFBFB\"> screen</span><span style=\"background-color: #FFFCFC\"> .</span><span style=\"background-color: #FFF0F0\"> he</span><span style=\"background-color: #FFFEFE\"> <unk></span><span style=\"background-color: #FFF4F4\"> lots</span><span style=\"background-color: #FFFEFE\"> of</span><span style=\"background-color: #FFF8F8\"> bugs</span><span style=\"background-color: #FFFBFB\"> at</span><span style=\"background-color: #FFF9F9\"> his</span><span style=\"background-color: #FFFEFE\"> cast</span><span style=\"background-color: #FFFEFE\"> for</span><span style=\"background-color: #FFFEFE\"> the</span><span style=\"background-color: #FFFEFE\"> finale</span><span style=\"background-color: #FFFDFD\"> .</span><span style=\"background-color: #FFFDFD\"> and</span><span style=\"background-color: #FFFDFD\"> ,</span><span style=\"background-color: #FFF5F5\"> anyway</span><span style=\"background-color: #FFFDFD\"> ,</span><span style=\"background-color: #FFFDFD\"> i</span><span style=\"background-color: #FFFDFD\"> love</span><span style=\"background-color: #FFD7D7\"> stop</span><span style=\"background-color: #FFF9F9\"> motion</span><span style=\"background-color: #FFD9D9\"> monsters</span><span style=\"background-color: #FFFDFD\"> which</span><span style=\"background-color: #FFFDFD\"> ,</span><span style=\"background-color: #FFF3F3\"> compared</span><span style=\"background-color: #FFFEFE\"> to</span><span style=\"background-color: #FFAEAE\"> cgi</span><span style=\"background-color: #FFE5E5\"> critters</span><span style=\"background-color: #FFFCFC\"> in</span><span style=\"background-color: #FFDBDB\"> bigger</span><span style=\"background-color: #FFFAFA\"> budgeted</span><span style=\"background-color: #FFFAFA\"> movies</span><span style=\"background-color: #FFFCFC\"> ,</span><span style=\"background-color: #FFFEFE\"> just</span><span style=\"background-color: #FFF3F3\"> seem</span><span style=\"background-color: #FFFEFE\"> to</span><span style=\"background-color: #FFEBEB\"> be</span><span style=\"background-color: #FFFDFD\"> that</span><span style=\"background-color: #FFDADA\"> much</span><span style=\"background-color: #FF8C8C\"> fun</span><span style=\"background-color: #FFFEFE\"> to</span><span style=\"background-color: #FFFAFA\"> watch</span><span style=\"background-color: #FFFDFD\"> .</span><span style=\"background-color: #FFFEFE\"> <eos></span><span style=\"background-color: #FFFFFF\"> <pad></span><span style=\"background-color: #FFFFFF\"> <pad></span><span style=\"background-color: #FFFFFF\"> <pad></span><span style=\"background-color: #FFFFFF\"> <pad></span><span style=\"background-color: #FFFFFF\"> <pad></span><span style=\"background-color: #FFFFFF\"> <pad></span><span style=\"background-color: #FFFFFF\"> <pad></span><span style=\"background-color: #FFFFFF\"> <pad></span><span style=\"background-color: #FFFFFF\"> <pad></span><span style=\"background-color: #FFFFFF\"> <pad></span><span style=\"background-color: #FFFFFF\"> <pad></span><span style=\"background-color: #FFFFFF\"> <pad></span><span style=\"background-color: #FFFFFF\"> <pad></span><span style=\"background-color: #FFFFFF\"> <pad></span><span style=\"background-color: #FFFFFF\"> <pad></span><span style=\"background-color: #FFFFFF\"> <pad></span><span style=\"background-color: #FFFFFF\"> <pad></span><span style=\"background-color: #FFFFFF\"> <pad></span><span style=\"background-color: #FFFFFF\"> <pad></span><span style=\"background-color: #FFFFFF\"> <pad></span><span style=\"background-color: #FFFFFF\"> <pad></span><span style=\"background-color: #FFFFFF\"> <pad></span><span style=\"background-color: #FFFFFF\"> <pad></span><span style=\"background-color: #FFFFFF\"> <pad></span><span style=\"background-color: #FFFFFF\"> <pad></span><span style=\"background-color: #FFFFFF\"> <pad></span><span style=\"background-color: #FFFFFF\"> <pad></span><span style=\"background-color: #FFFFFF\"> <pad></span><span style=\"background-color: #FFFFFF\"> <pad></span><span style=\"background-color: #FFFFFF\"> <pad></span><span style=\"background-color: #FFFFFF\"> <pad></span><span style=\"background-color: #FFFFFF\"> <pad></span><span style=\"background-color: #FFFFFF\"> <pad></span><span style=\"background-color: #FFFFFF\"> <pad></span><span style=\"background-color: #FFFFFF\"> <pad></span><span style=\"background-color: #FFFFFF\"> <pad></span><span style=\"background-color: #FFFFFF\"> <pad></span><span style=\"background-color: #FFFFFF\"> <pad></span><span style=\"background-color: #FFFFFF\"> <pad></span><span style=\"background-color: #FFFFFF\"> <pad></span><span style=\"background-color: #FFFFFF\"> <pad></span><span style=\"background-color: #FFFFFF\"> <pad></span><span style=\"background-color: #FFFFFF\"> <pad></span><span style=\"background-color: #FFFFFF\"> <pad></span><span style=\"background-color: #FFFFFF\"> <pad></span><span style=\"background-color: #FFFFFF\"> <pad></span><span style=\"background-color: #FFFFFF\"> <pad></span><span style=\"background-color: #FFFFFF\"> <pad></span><span style=\"background-color: #FFFFFF\"> <pad></span><span style=\"background-color: #FFFFFF\"> <pad></span><span style=\"background-color: #FFFFFF\"> <pad></span><span style=\"background-color: #FFFFFF\"> <pad></span><span style=\"background-color: #FFFFFF\"> <pad></span><span style=\"background-color: #FFFFFF\"> <pad></span><span style=\"background-color: #FFFFFF\"> <pad></span><span style=\"background-color: #FFFFFF\"> <pad></span><span style=\"background-color: #FFFFFF\"> <pad></span><span style=\"background-color: #FFFFFF\"> <pad></span><span style=\"background-color: #FFFFFF\"> <pad></span><span style=\"background-color: #FFFFFF\"> <pad></span><span style=\"background-color: #FFFFFF\"> <pad></span><span style=\"background-color: #FFFFFF\"> <pad></span><span style=\"background-color: #FFFFFF\"> <pad></span><span style=\"background-color: #FFFFFF\"> <pad></span><span style=\"background-color: #FFFFFF\"> <pad></span><span style=\"background-color: #FFFFFF\"> <pad></span><span style=\"background-color: #FFFFFF\"> <pad></span><span style=\"background-color: #FFFFFF\"> <pad></span><span style=\"background-color: #FFFFFF\"> <pad></span><span style=\"background-color: #FFFFFF\"> <pad></span><span style=\"background-color: #FFFFFF\"> <pad></span><span style=\"background-color: #FFFFFF\"> <pad></span><span style=\"background-color: #FFFFFF\"> <pad></span><span style=\"background-color: #FFFFFF\"> <pad></span><span style=\"background-color: #FFFFFF\"> <pad></span><span style=\"background-color: #FFFFFF\"> <pad></span><span style=\"background-color: #FFFFFF\"> <pad></span><span style=\"background-color: #FFFFFF\"> <pad></span><span style=\"background-color: #FFFFFF\"> <pad></span><span style=\"background-color: #FFFFFF\"> <pad></span><span style=\"background-color: #FFFFFF\"> <pad></span><span style=\"background-color: #FFFFFF\"> <pad></span><span style=\"background-color: #FFFFFF\"> <pad></span><span style=\"background-color: #FFFFFF\"> <pad></span><span style=\"background-color: #FFFFFF\"> <pad></span><span style=\"background-color: #FFFFFF\"> <pad></span><span style=\"background-color: #FFFFFF\"> <pad></span><span style=\"background-color: #FFFFFF\"> <pad></span><span style=\"background-color: #FFFFFF\"> <pad></span><span style=\"background-color: #FFFFFF\"> <pad></span><span style=\"background-color: #FFFFFF\"> <pad></span><span style=\"background-color: #FFFFFF\"> <pad></span><span style=\"background-color: #FFFFFF\"> <pad></span><span style=\"background-color: #FFFFFF\"> <pad></span><span style=\"background-color: #FFFFFF\"> <pad></span><span style=\"background-color: #FFFFFF\"> <pad></span><span style=\"background-color: #FFFFFF\"> <pad></span><span style=\"background-color: #FFFFFF\"> <pad></span><span style=\"background-color: #FFFFFF\"> <pad></span><span style=\"background-color: #FFFFFF\"> <pad></span><span style=\"background-color: #FFFFFF\"> <pad></span><span style=\"background-color: #FFFFFF\"> <pad></span><span style=\"background-color: #FFFFFF\"> <pad></span><span style=\"background-color: #FFFFFF\"> <pad></span><span style=\"background-color: #FFFFFF\"> <pad></span><span style=\"background-color: #FFFFFF\"> <pad></span><span style=\"background-color: #FFFFFF\"> <pad></span><span style=\"background-color: #FFFFFF\"> <pad></span><span style=\"background-color: #FFFFFF\"> <pad></span><span style=\"background-color: #FFFFFF\"> <pad></span><span style=\"background-color: #FFFFFF\"> <pad></span><span style=\"background-color: #FFFFFF\"> <pad></span><span style=\"background-color: #FFFFFF\"> <pad></span><span style=\"background-color: #FFFFFF\"> <pad></span><span style=\"background-color: #FFFFFF\"> <pad></span><span style=\"background-color: #FFFFFF\"> <pad></span><span style=\"background-color: #FFFFFF\"> <pad></span><span style=\"background-color: #FFFFFF\"> <pad></span><span style=\"background-color: #FFFFFF\"> <pad></span><span style=\"background-color: #FFFFFF\"> <pad></span><br><br>"
            ],
            "text/plain": [
              "<IPython.core.display.HTML object>"
            ]
          },
          "metadata": {
            "tags": []
          },
          "execution_count": 21
        }
      ]
    },
    {
      "cell_type": "markdown",
      "metadata": {
        "id": "53-l2Y03cYJM",
        "colab_type": "text"
      },
      "source": [
        "以上"
      ]
    }
  ]
}