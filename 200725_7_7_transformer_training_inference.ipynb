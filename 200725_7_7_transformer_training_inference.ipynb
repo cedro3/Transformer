{
  "nbformat": 4,
  "nbformat_minor": 0,
  "metadata": {
    "kernelspec": {
      "display_name": "Python 3",
      "language": "python",
      "name": "python3"
    },
    "language_info": {
      "codemirror_mode": {
        "name": "ipython",
        "version": 3
      },
      "file_extension": ".py",
      "mimetype": "text/x-python",
      "name": "python",
      "nbconvert_exporter": "python",
      "pygments_lexer": "ipython3",
      "version": "3.7.2"
    },
    "colab": {
      "name": "200725_7-7_transformer_training_inference",
      "provenance": [],
      "include_colab_link": true
    },
    "accelerator": "GPU"
  },
  "cells": [
    {
      "cell_type": "markdown",
      "metadata": {
        "id": "view-in-github",
        "colab_type": "text"
      },
      "source": [
        "<a href=\"https://colab.research.google.com/github/cedro3/Transformer/blob/master/200725_7_7_transformer_training_inference.ipynb\" target=\"_parent\"><img src=\"https://colab.research.google.com/assets/colab-badge.svg\" alt=\"Open In Colab\"/></a>"
      ]
    },
    {
      "cell_type": "markdown",
      "metadata": {
        "id": "NZgA2TMZcYIe",
        "colab_type": "text"
      },
      "source": [
        "# 7.7 Transformerの学習・推論、判定根拠の可視化を実装\n",
        "\n",
        "- 本ファイルでは、ここまでで作成したTransformerモデルとIMDbのDataLoaderを使用してクラス分類を学習させます。テストデータで推論をし、さらに判断根拠となるAttentionを可視化します"
      ]
    },
    {
      "cell_type": "code",
      "metadata": {
        "id": "ai9T70ScccNJ",
        "colab_type": "code",
        "colab": {
          "base_uri": "https://localhost:8080/",
          "height": 136
        },
        "outputId": "ba76e859-d393-4379-fa08-ecaa9c240dc0"
      },
      "source": [
        "!git clone https://github.com/YutaroOgawa/pytorch_advanced.git"
      ],
      "execution_count": 1,
      "outputs": [
        {
          "output_type": "stream",
          "text": [
            "Cloning into 'pytorch_advanced'...\n",
            "remote: Enumerating objects: 24, done.\u001b[K\n",
            "remote: Counting objects: 100% (24/24), done.\u001b[K\n",
            "remote: Compressing objects: 100% (20/20), done.\u001b[K\n",
            "remote: Total 465 (delta 6), reused 12 (delta 4), pack-reused 441\u001b[K\n",
            "Receiving objects: 100% (465/465), 14.78 MiB | 5.03 MiB/s, done.\n",
            "Resolving deltas: 100% (237/237), done.\n"
          ],
          "name": "stdout"
        }
      ]
    },
    {
      "cell_type": "code",
      "metadata": {
        "id": "3-Jg-sd1ccWK",
        "colab_type": "code",
        "colab": {
          "base_uri": "https://localhost:8080/",
          "height": 34
        },
        "outputId": "91611518-aa15-4d37-f23b-6e086180bd9b"
      },
      "source": [
        "cd pytorch_advanced/7_nlp_sentiment_transformer"
      ],
      "execution_count": null,
      "outputs": [
        {
          "output_type": "stream",
          "text": [
            "/content/pytorch_advanced/7_nlp_sentiment_transformer\n"
          ],
          "name": "stdout"
        }
      ]
    },
    {
      "cell_type": "code",
      "metadata": {
        "id": "kHf-m5sKcceF",
        "colab_type": "code",
        "colab": {
          "base_uri": "https://localhost:8080/",
          "height": 102
        },
        "outputId": "ec3ef0d9-8d19-4516-aed8-5a2625e7999b"
      },
      "source": [
        "ls"
      ],
      "execution_count": null,
      "outputs": [
        {
          "output_type": "stream",
          "text": [
            "7-1_Tokenizer.ipynb                7-7_transformer_training_inference.ipynb\n",
            "7-2_torchtext.ipynb                \u001b[0m\u001b[01;34mdata\u001b[0m/\n",
            "7-4_vectorize.ipynb                make_folders_and_data_downloads.ipynb\n",
            "7-5_IMDb_Dataset_DataLoader.ipynb  \u001b[01;34mutils\u001b[0m/\n",
            "7-6_Transformer.ipynb\n"
          ],
          "name": "stdout"
        }
      ]
    },
    {
      "cell_type": "code",
      "metadata": {
        "id": "x8TIKrBOqcy_",
        "colab_type": "code",
        "colab": {}
      },
      "source": [
        "import os\n",
        "import urllib.request\n",
        "import zipfile\n",
        "import tarfile"
      ],
      "execution_count": null,
      "outputs": []
    },
    {
      "cell_type": "code",
      "metadata": {
        "id": "SD1fiYcxpkOI",
        "colab_type": "code",
        "colab": {}
      },
      "source": [
        "# IMDbデータセットをダウンロード。30秒ほどでダウンロードできます\n",
        "\n",
        "url = \"http://ai.stanford.edu/~amaas/data/sentiment/aclImdb_v1.tar.gz\"\n",
        "save_path = \"./data/aclImdb_v1.tar.gz\"\n",
        "if not os.path.exists(save_path):\n",
        "    urllib.request.urlretrieve(url, save_path)"
      ],
      "execution_count": null,
      "outputs": []
    },
    {
      "cell_type": "code",
      "metadata": {
        "id": "2tDUuj4EqISS",
        "colab_type": "code",
        "colab": {}
      },
      "source": [
        "# './data/aclImdb_v1.tar.gz'の解凍　1分ほどかかります\n",
        "\n",
        "# tarファイルを読み込み\n",
        "tar = tarfile.open('./data/aclImdb_v1.tar.gz')\n",
        "tar.extractall('./data/')  # 解凍\n",
        "tar.close()  # ファイルをクローズ\n",
        "\n",
        "# フォルダ「data」内にフォルダ「aclImdb」というものができます。"
      ],
      "execution_count": null,
      "outputs": []
    },
    {
      "cell_type": "code",
      "metadata": {
        "id": "Q-43PdlKruwS",
        "colab_type": "code",
        "colab": {}
      },
      "source": [
        "# fastTextの公式の英語学習済みモデル（650MB）をダウンロード。時間が5分ほどかかります\n",
        "url = \"https://dl.fbaipublicfiles.com/fasttext/vectors-english/wiki-news-300d-1M.vec.zip\"\n",
        "save_path = \"./data/wiki-news-300d-1M.vec.zip\"\n",
        "if not os.path.exists(save_path):\n",
        "    urllib.request.urlretrieve(url, save_path)"
      ],
      "execution_count": null,
      "outputs": []
    },
    {
      "cell_type": "code",
      "metadata": {
        "id": "hoTHyvcPrzqp",
        "colab_type": "code",
        "colab": {}
      },
      "source": [
        "# フォルダ「data」内の「/wiki-news-300d-1M.vec.zip」を解凍する\n",
        "\n",
        "zipf = zipfile.ZipFile(\"./data/wiki-news-300d-1M.vec.zip\")  # zip > zipf\n",
        "zipf.extractall(\"./data/\")  # ZIPを解凍  # zip > zipf\n",
        "zipf.close()  # ZIPファイルをクローズ    # zip > zipf\n",
        "\n",
        "# フォルダ「data」内にフォルダ「wiki-news-300d-1M.vec」というものができます。"
      ],
      "execution_count": null,
      "outputs": []
    },
    {
      "cell_type": "markdown",
      "metadata": {
        "id": "j3b9z9dbcYIg",
        "colab_type": "text"
      },
      "source": [
        "# 7.7 学習目標\n",
        "\n",
        "1.\tTransformerの学習を実装できるようになる\n",
        "2.\tTransformerの判定時のAttention可視化を実装できるようになる\n"
      ]
    },
    {
      "cell_type": "markdown",
      "metadata": {
        "id": "iJASbjTHcYIh",
        "colab_type": "text"
      },
      "source": [
        "# 事前準備\n",
        "\n",
        "- フォルダ「utils」内の関数やクラスを使用します"
      ]
    },
    {
      "cell_type": "code",
      "metadata": {
        "id": "L0zl-vatcYIh",
        "colab_type": "code",
        "colab": {}
      },
      "source": [
        "# パッケージのimport\n",
        "import numpy as np\n",
        "import random\n",
        "\n",
        "import torch\n",
        "import torch.nn as nn\n",
        "import torch.optim as optim\n",
        "\n",
        "import torchtext\n"
      ],
      "execution_count": null,
      "outputs": []
    },
    {
      "cell_type": "code",
      "metadata": {
        "id": "9IBWgTe3cYIl",
        "colab_type": "code",
        "colab": {}
      },
      "source": [
        "# 乱数のシードを設定\n",
        "torch.manual_seed(1234)\n",
        "np.random.seed(1234)\n",
        "random.seed(1234)"
      ],
      "execution_count": null,
      "outputs": []
    },
    {
      "cell_type": "markdown",
      "metadata": {
        "id": "5c7udEkecYIp",
        "colab_type": "text"
      },
      "source": [
        "# DatasetとDataLoaderを作成"
      ]
    },
    {
      "cell_type": "code",
      "metadata": {
        "id": "O4DGwhqocYIp",
        "colab_type": "code",
        "colab": {
          "base_uri": "https://localhost:8080/",
          "height": 51
        },
        "outputId": "0a14712d-8113-4ee2-aec4-3023851c9599"
      },
      "source": [
        "from utils.dataloader import get_IMDb_DataLoaders_and_TEXT\n",
        "\n",
        "# 読み込み\n",
        "train_dl, val_dl, test_dl, TEXT = get_IMDb_DataLoaders_and_TEXT(\n",
        "    max_length=256, batch_size=64)\n",
        "\n",
        "# 辞書オブジェクトにまとめる\n",
        "dataloaders_dict = {\"train\": train_dl, \"val\": val_dl}\n"
      ],
      "execution_count": null,
      "outputs": [
        {
          "output_type": "stream",
          "text": [
            "  0%|          | 0/999994 [00:00<?, ?it/s]Skipping token b'999994' with 1-dimensional vector [b'300']; likely a header\n",
            "100%|█████████▉| 999403/999994 [02:14<00:00, 7807.35it/s]"
          ],
          "name": "stderr"
        }
      ]
    },
    {
      "cell_type": "markdown",
      "metadata": {
        "id": "Nq6Y-BKxcYIu",
        "colab_type": "text"
      },
      "source": [
        "# ネットワークモデルの作成"
      ]
    },
    {
      "cell_type": "code",
      "metadata": {
        "id": "Lx33RtQ6cYIu",
        "colab_type": "code",
        "colab": {
          "base_uri": "https://localhost:8080/",
          "height": 34
        },
        "outputId": "96c399ed-9943-434a-ecd6-b4ee7bfd7f02"
      },
      "source": [
        "from utils.transformer import TransformerClassification\n",
        "\n",
        "# モデル構築\n",
        "net = TransformerClassification(\n",
        "    text_embedding_vectors=TEXT.vocab.vectors, d_model=300, max_seq_len=256, output_dim=2)\n",
        "\n",
        "# ネットワークの初期化を定義\n",
        "\n",
        "\n",
        "def weights_init(m):\n",
        "    classname = m.__class__.__name__\n",
        "    if classname.find('Linear') != -1:\n",
        "        # Liner層の初期化\n",
        "        nn.init.kaiming_normal_(m.weight)\n",
        "        if m.bias is not None:\n",
        "            nn.init.constant_(m.bias, 0.0)\n",
        "\n",
        "\n",
        "# 訓練モードに設定\n",
        "net.train()\n",
        "\n",
        "# TransformerBlockモジュールを初期化実行\n",
        "net.net3_1.apply(weights_init)\n",
        "net.net3_2.apply(weights_init)\n",
        "\n",
        "\n",
        "print('ネットワーク設定完了')\n"
      ],
      "execution_count": null,
      "outputs": [
        {
          "output_type": "stream",
          "text": [
            "\r100%|█████████▉| 999403/999994 [02:31<00:00, 7807.35it/s]"
          ],
          "name": "stderr"
        },
        {
          "output_type": "stream",
          "text": [
            "ネットワーク設定完了\n"
          ],
          "name": "stdout"
        }
      ]
    },
    {
      "cell_type": "markdown",
      "metadata": {
        "id": "IwgC2x82cYIy",
        "colab_type": "text"
      },
      "source": [
        "# 損失関数と最適化手法を定義"
      ]
    },
    {
      "cell_type": "code",
      "metadata": {
        "id": "k8-cxceDcYIz",
        "colab_type": "code",
        "colab": {}
      },
      "source": [
        "# 損失関数の設定\n",
        "criterion = nn.CrossEntropyLoss()\n",
        "# nn.LogSoftmax()を計算してからnn.NLLLoss(negative log likelihood loss)を計算\n",
        "\n",
        "# 最適化手法の設定\n",
        "learning_rate = 2e-5\n",
        "optimizer = optim.Adam(net.parameters(), lr=learning_rate)\n"
      ],
      "execution_count": null,
      "outputs": []
    },
    {
      "cell_type": "markdown",
      "metadata": {
        "id": "1piTApx0cYI2",
        "colab_type": "text"
      },
      "source": [
        "# 学習・検証を実施"
      ]
    },
    {
      "cell_type": "code",
      "metadata": {
        "id": "hlgcvCVAcYI3",
        "colab_type": "code",
        "colab": {}
      },
      "source": [
        "# モデルを学習させる関数を作成\n",
        "\n",
        "\n",
        "def train_model(net, dataloaders_dict, criterion, optimizer, num_epochs):\n",
        "\n",
        "    # GPUが使えるかを確認\n",
        "    device = torch.device(\"cuda:0\" if torch.cuda.is_available() else \"cpu\")\n",
        "    print(\"使用デバイス：\", device)\n",
        "    print('-----start-------')\n",
        "    # ネットワークをGPUへ\n",
        "    net.to(device)\n",
        "\n",
        "    # ネットワークがある程度固定であれば、高速化させる\n",
        "    torch.backends.cudnn.benchmark = True\n",
        "\n",
        "    # epochのループ\n",
        "    for epoch in range(num_epochs):\n",
        "        # epochごとの訓練と検証のループ\n",
        "        for phase in ['train', 'val']:\n",
        "            if phase == 'train':\n",
        "                net.train()  # モデルを訓練モードに\n",
        "            else:\n",
        "                net.eval()   # モデルを検証モードに\n",
        "\n",
        "            epoch_loss = 0.0  # epochの損失和\n",
        "            epoch_corrects = 0  # epochの正解数\n",
        "\n",
        "            # データローダーからミニバッチを取り出すループ\n",
        "            for batch in (dataloaders_dict[phase]):\n",
        "                # batchはTextとLableの辞書オブジェクト\n",
        "\n",
        "                # GPUが使えるならGPUにデータを送る\n",
        "                inputs = batch.Text[0].to(device)  # 文章\n",
        "                labels = batch.Label.to(device)  # ラベル\n",
        "\n",
        "                # optimizerを初期化\n",
        "                optimizer.zero_grad()\n",
        "\n",
        "                # 順伝搬（forward）計算\n",
        "                with torch.set_grad_enabled(phase == 'train'):\n",
        "\n",
        "                    # mask作成\n",
        "                    input_pad = 1  # 単語のIDにおいて、'<pad>': 1 なので\n",
        "                    input_mask = (inputs != input_pad)\n",
        "\n",
        "                    # Transformerに入力\n",
        "                    outputs, _, _ = net(inputs, input_mask)\n",
        "                    loss = criterion(outputs, labels)  # 損失を計算\n",
        "\n",
        "                    _, preds = torch.max(outputs, 1)  # ラベルを予測\n",
        "\n",
        "                    # 訓練時はバックプロパゲーション\n",
        "                    if phase == 'train':\n",
        "                        loss.backward()\n",
        "                        optimizer.step()\n",
        "\n",
        "                    # 結果の計算\n",
        "                    epoch_loss += loss.item() * inputs.size(0)  # lossの合計を更新\n",
        "                    # 正解数の合計を更新\n",
        "                    epoch_corrects += torch.sum(preds == labels.data)\n",
        "\n",
        "            # epochごとのlossと正解率\n",
        "            epoch_loss = epoch_loss / len(dataloaders_dict[phase].dataset)\n",
        "            epoch_acc = epoch_corrects.double(\n",
        "            ) / len(dataloaders_dict[phase].dataset)\n",
        "\n",
        "            print('Epoch {}/{} | {:^5} |  Loss: {:.4f} Acc: {:.4f}'.format(epoch+1, num_epochs,\n",
        "                                                                           phase, epoch_loss, epoch_acc))\n",
        "\n",
        "    return net\n"
      ],
      "execution_count": null,
      "outputs": []
    },
    {
      "cell_type": "code",
      "metadata": {
        "id": "lPpWWoGVcYI6",
        "colab_type": "code",
        "colab": {
          "base_uri": "https://localhost:8080/",
          "height": 391
        },
        "outputId": "7e229407-6cd7-453a-a6f2-bd05c0a4f8c4"
      },
      "source": [
        "# 学習・検証を実行する 15分ほどかかります\n",
        "num_epochs = 10\n",
        "net_trained = train_model(net, dataloaders_dict,\n",
        "                          criterion, optimizer, num_epochs=num_epochs)\n"
      ],
      "execution_count": null,
      "outputs": [
        {
          "output_type": "stream",
          "text": [
            "使用デバイス： cuda:0\n",
            "-----start-------\n",
            "Epoch 1/10 | train |  Loss: 0.5925 Acc: 0.6721\n",
            "Epoch 1/10 |  val  |  Loss: 0.4293 Acc: 0.8042\n",
            "Epoch 2/10 | train |  Loss: 0.4434 Acc: 0.7969\n",
            "Epoch 2/10 |  val  |  Loss: 0.4116 Acc: 0.8140\n",
            "Epoch 3/10 | train |  Loss: 0.4043 Acc: 0.8184\n",
            "Epoch 3/10 |  val  |  Loss: 0.3739 Acc: 0.8336\n",
            "Epoch 4/10 | train |  Loss: 0.3866 Acc: 0.8283\n",
            "Epoch 4/10 |  val  |  Loss: 0.3674 Acc: 0.8404\n",
            "Epoch 5/10 | train |  Loss: 0.3711 Acc: 0.8351\n",
            "Epoch 5/10 |  val  |  Loss: 0.3564 Acc: 0.8468\n",
            "Epoch 6/10 | train |  Loss: 0.3576 Acc: 0.8413\n",
            "Epoch 6/10 |  val  |  Loss: 0.3477 Acc: 0.8508\n",
            "Epoch 7/10 | train |  Loss: 0.3508 Acc: 0.8473\n",
            "Epoch 7/10 |  val  |  Loss: 0.3719 Acc: 0.8434\n",
            "Epoch 8/10 | train |  Loss: 0.3434 Acc: 0.8491\n",
            "Epoch 8/10 |  val  |  Loss: 0.3485 Acc: 0.8558\n",
            "Epoch 9/10 | train |  Loss: 0.3340 Acc: 0.8572\n",
            "Epoch 9/10 |  val  |  Loss: 0.3616 Acc: 0.8488\n",
            "Epoch 10/10 | train |  Loss: 0.3327 Acc: 0.8569\n",
            "Epoch 10/10 |  val  |  Loss: 0.3369 Acc: 0.8600\n"
          ],
          "name": "stdout"
        }
      ]
    },
    {
      "cell_type": "markdown",
      "metadata": {
        "id": "U34M69axcYI_",
        "colab_type": "text"
      },
      "source": [
        "# テストデータでの正解率を求める"
      ]
    },
    {
      "cell_type": "code",
      "metadata": {
        "id": "Efdn0D-ucYI_",
        "colab_type": "code",
        "colab": {
          "base_uri": "https://localhost:8080/",
          "height": 34
        },
        "outputId": "084c506f-7d6e-40c6-9e58-dd7a46754fb5"
      },
      "source": [
        "# device\n",
        "device = torch.device(\"cuda:0\" if torch.cuda.is_available() else \"cpu\")\n",
        "\n",
        "net_trained.eval()   # モデルを検証モードに\n",
        "net_trained.to(device)\n",
        "\n",
        "epoch_corrects = 0  # epochの正解数\n",
        "\n",
        "for batch in (test_dl):  # testデータのDataLoader\n",
        "    # batchはTextとLableの辞書オブジェクト\n",
        "    \n",
        "    # GPUが使えるならGPUにデータを送る\n",
        "    inputs = batch.Text[0].to(device)  # 文章\n",
        "    labels = batch.Label.to(device)  # ラベル\n",
        "\n",
        "    # 順伝搬（forward）計算\n",
        "    with torch.set_grad_enabled(False):\n",
        "\n",
        "        # mask作成\n",
        "        input_pad = 1  # 単語のIDにおいて、'<pad>': 1 なので\n",
        "        input_mask = (inputs != input_pad)\n",
        "\n",
        "        # Transformerに入力\n",
        "        outputs, _, _ = net_trained(inputs, input_mask)\n",
        "        _, preds = torch.max(outputs, 1)  # ラベルを予測\n",
        "\n",
        "        # 結果の計算\n",
        "        # 正解数の合計を更新\n",
        "        epoch_corrects += torch.sum(preds == labels.data)\n",
        "\n",
        "# 正解率\n",
        "epoch_acc = epoch_corrects.double() / len(test_dl.dataset)\n",
        "\n",
        "print('テストデータ{}個での正解率：{:.4f}'.format(len(test_dl.dataset),epoch_acc))\n"
      ],
      "execution_count": null,
      "outputs": [
        {
          "output_type": "stream",
          "text": [
            "テストデータ25000個での正解率：0.8505\n"
          ],
          "name": "stdout"
        }
      ]
    },
    {
      "cell_type": "markdown",
      "metadata": {
        "id": "ePM7sOM9cYJC",
        "colab_type": "text"
      },
      "source": [
        "# Attentionの可視化で判定根拠を探る\n",
        "\n"
      ]
    },
    {
      "cell_type": "code",
      "metadata": {
        "id": "PHg0Hw-wcYJC",
        "colab_type": "code",
        "colab": {}
      },
      "source": [
        "# HTMLを作成する関数を実装\n",
        "\n",
        "\n",
        "def highlight(word, attn):\n",
        "    \"Attentionの値が大きいと文字の背景が濃い赤になるhtmlを出力させる関数\"\n",
        "\n",
        "    html_color = '#%02X%02X%02X' % (\n",
        "        255, int(255*(1 - attn)), int(255*(1 - attn)))\n",
        "    return '<span style=\"background-color: {}\"> {}</span>'.format(html_color, word)\n",
        "\n",
        "\n",
        "def mk_html(index, batch, preds, normlized_weights_1, normlized_weights_2, TEXT):\n",
        "    \"HTMLデータを作成する\"\n",
        "\n",
        "    # indexの結果を抽出\n",
        "    sentence = batch.Text[0][index]  # 文章\n",
        "    label = batch.Label[index]  # ラベル\n",
        "    pred = preds[index]  # 予測\n",
        "\n",
        "    # indexのAttentionを抽出と規格化\n",
        "    attens1 = normlized_weights_1[index, 0, :]  # 0番目の<cls>のAttention\n",
        "    attens1 /= attens1.max()\n",
        "\n",
        "    attens2 = normlized_weights_2[index, 0, :]  # 0番目の<cls>のAttention\n",
        "    attens2 /= attens2.max()\n",
        "\n",
        "    # ラベルと予測結果を文字に置き換え\n",
        "    if label == 0:\n",
        "        label_str = \"Negative\"\n",
        "    else:\n",
        "        label_str = \"Positive\"\n",
        "\n",
        "    if pred == 0:\n",
        "        pred_str = \"Negative\"\n",
        "    else:\n",
        "        pred_str = \"Positive\"\n",
        "\n",
        "    # 表示用のHTMLを作成する\n",
        "    html = '正解ラベル：{}<br>推論ラベル：{}<br><br>'.format(label_str, pred_str)\n",
        "\n",
        "    # 1段目のAttention\n",
        "    html += '[TransformerBlockの1段目のAttentionを可視化]<br>'\n",
        "    for word, attn in zip(sentence, attens1):\n",
        "        html += highlight(TEXT.vocab.itos[word], attn)\n",
        "    html += \"<br><br>\"\n",
        "\n",
        "    # 2段目のAttention\n",
        "    html += '[TransformerBlockの2段目のAttentionを可視化]<br>'\n",
        "    for word, attn in zip(sentence, attens2):\n",
        "        html += highlight(TEXT.vocab.itos[word], attn)\n",
        "\n",
        "    html += \"<br><br>\"\n",
        "\n",
        "    return html\n"
      ],
      "execution_count": null,
      "outputs": []
    },
    {
      "cell_type": "code",
      "metadata": {
        "id": "YU9T3vJycYJG",
        "colab_type": "code",
        "colab": {
          "base_uri": "https://localhost:8080/",
          "height": 340
        },
        "outputId": "51e5d647-37db-4acb-9f58-5e6864d3cf1d"
      },
      "source": [
        "from IPython.display import HTML\n",
        "\n",
        "# Transformerで処理\n",
        "\n",
        "# ミニバッチの用意\n",
        "batch = next(iter(test_dl))\n",
        "\n",
        "# GPUが使えるならGPUにデータを送る\n",
        "inputs = batch.Text[0].to(device)  # 文章\n",
        "labels = batch.Label.to(device)  # ラベル\n",
        "\n",
        "# mask作成\n",
        "input_pad = 1  # 単語のIDにおいて、'<pad>': 1 なので\n",
        "input_mask = (inputs != input_pad)\n",
        "\n",
        "# Transformerに入力\n",
        "outputs, normlized_weights_1, normlized_weights_2 = net_trained(\n",
        "    inputs, input_mask)\n",
        "_, preds = torch.max(outputs, 1)  # ラベルを予測\n",
        "\n",
        "\n",
        "index = 3  # 出力させたいデータ\n",
        "html_output = mk_html(index, batch, preds, normlized_weights_1,\n",
        "                      normlized_weights_2, TEXT)  # HTML作成\n",
        "HTML(html_output)  # HTML形式で出力\n"
      ],
      "execution_count": null,
      "outputs": [
        {
          "output_type": "execute_result",
          "data": {
            "text/html": [
              "正解ラベル：Positive<br>推論ラベル：Positive<br><br>[TransformerBlockの1段目のAttentionを可視化]<br><span style=\"background-color: #FFF5F5\"> <cls></span><span style=\"background-color: #FFEBEB\"> dennis</span><span style=\"background-color: #FFFBFB\"> patrick</span><span style=\"background-color: #FFF2F2\"> plays</span><span style=\"background-color: #FFFAFA\"> a</span><span style=\"background-color: #FFFDFD\"> man</span><span style=\"background-color: #FFFEFE\"> who</span><span style=\"background-color: #FFE6E6\"> accidentally</span><span style=\"background-color: #FFFDFD\"> kills</span><span style=\"background-color: #FFFBFB\"> his</span><span style=\"background-color: #FFFDFD\"> daughter</span><span style=\"background-color: #FFFDFD\"> s</span><span style=\"background-color: #FFFCFC\"> boyfriend</span><span style=\"background-color: #FFFEFE\"> and</span><span style=\"background-color: #FFFEFE\"> then</span><span style=\"background-color: #FFF8F8\"> reveals</span><span style=\"background-color: #FFFCFC\"> his</span><span style=\"background-color: #FFF1F1\"> secret</span><span style=\"background-color: #FFFEFE\"> at</span><span style=\"background-color: #FFFCFC\"> a</span><span style=\"background-color: #FFFCFC\"> local</span><span style=\"background-color: #FFF2F2\"> bar</span><span style=\"background-color: #FFFEFE\"> .</span><span style=\"background-color: #FFFBFB\"> joe</span><span style=\"background-color: #FFFDFD\"> peter</span><span style=\"background-color: #FFF8F8\"> boyle</span><span style=\"background-color: #FFFEFE\"> ,</span><span style=\"background-color: #FFFAFA\"> a</span><span style=\"background-color: #FFFCFC\"> <unk></span><span style=\"background-color: #FFFEFE\"> who</span><span style=\"background-color: #FFFDFD\"> is</span><span style=\"background-color: #FFFDFD\"> getting</span><span style=\"background-color: #FFF0F0\"> drunk</span><span style=\"background-color: #FFFEFE\"> there</span><span style=\"background-color: #FFFEFE\"> ,</span><span style=\"background-color: #FFFEFE\"> at</span><span style=\"background-color: #FFFAFA\"> first</span><span style=\"background-color: #FFFAFA\"> takes</span><span style=\"background-color: #FFFEFE\"> it</span><span style=\"background-color: #FFFEFE\"> as</span><span style=\"background-color: #FFFAFA\"> a</span><span style=\"background-color: #FF0000\"> joke</span><span style=\"background-color: #FFFEFE\"> ,</span><span style=\"background-color: #FFFEFE\"> but</span><span style=\"background-color: #FFFEFE\"> then</span><span style=\"background-color: #FFFDFD\"> the</span><span style=\"background-color: #FFF4F4\"> story</span><span style=\"background-color: #FFFDFD\"> is</span><span style=\"background-color: #FF6565\"> confirmed</span><span style=\"background-color: #FFFDFD\"> on</span><span style=\"background-color: #FFFDFD\"> the</span><span style=\"background-color: #FFFDFD\"> evening</span><span style=\"background-color: #FFF2F2\"> news</span><span style=\"background-color: #FFFEFE\"> .</span><span style=\"background-color: #FFFCFC\"> instead</span><span style=\"background-color: #FFFDFD\"> of</span><span style=\"background-color: #FFF4F4\"> calling</span><span style=\"background-color: #FFFDFD\"> the</span><span style=\"background-color: #FFE0E0\"> cops</span><span style=\"background-color: #FFFEFE\"> or</span><span style=\"background-color: #FFFDFD\"> the</span><span style=\"background-color: #FFFAFA\"> like</span><span style=\"background-color: #FFFEFE\"> ,</span><span style=\"background-color: #FFFBFB\"> joe</span><span style=\"background-color: #FFF6F6\"> decides</span><span style=\"background-color: #FFFDFD\"> that</span><span style=\"background-color: #FFFEFE\"> ,</span><span style=\"background-color: #FFFAFA\"> since</span><span style=\"background-color: #FFFDFD\"> the</span><span style=\"background-color: #FFF7F7\"> guy</span><span style=\"background-color: #FFFEFE\"> killed</span><span style=\"background-color: #FFFAFA\"> a</span><span style=\"background-color: #FFF3F3\"> hippie</span><span style=\"background-color: #FFFEFE\"> ,</span><span style=\"background-color: #FFFCFC\"> they</span><span style=\"background-color: #FFEEEE\"> must</span><span style=\"background-color: #FFFDFD\"> be</span><span style=\"background-color: #FFFDFD\"> <unk></span><span style=\"background-color: #FFD6D6\"> spirits</span><span style=\"background-color: #FFFEFE\"> he</span><span style=\"background-color: #FFFBFB\"> <unk></span><span style=\"background-color: #FFFCFC\"> the</span><span style=\"background-color: #FFFCFC\"> man</span><span style=\"background-color: #FFFEFE\"> into</span><span style=\"background-color: #FFFEFE\"> becoming</span><span style=\"background-color: #FFFAFA\"> his</span><span style=\"background-color: #FFB0B0\"> pal</span><span style=\"background-color: #FFFEFE\"> .</span><span style=\"background-color: #FFFEFE\"> at</span><span style=\"background-color: #FFFAFA\"> first</span><span style=\"background-color: #FFFEFE\"> ,</span><span style=\"background-color: #FFFDFD\"> the</span><span style=\"background-color: #FFF1F1\"> film</span><span style=\"background-color: #FFD6D6\"> seemed</span><span style=\"background-color: #FFE4E4\"> harsh</span><span style=\"background-color: #FFFEFE\"> and</span><span style=\"background-color: #FFFBFB\"> <unk></span><span style=\"background-color: #FFFEFE\"> ,</span><span style=\"background-color: #FFFEFE\"> but</span><span style=\"background-color: #FFFEFE\"> ,</span><span style=\"background-color: #FFFEFE\"> as</span><span style=\"background-color: #FFFEFE\"> it</span><span style=\"background-color: #FFE5E5\"> revealed</span><span style=\"background-color: #FFF8F8\"> itself</span><span style=\"background-color: #FFFEFE\"> ,</span><span style=\"background-color: #FFFDFD\"> it</span><span style=\"background-color: #FFD2D2\"> actually</span><span style=\"background-color: #FFFCFC\"> became</span><span style=\"background-color: #FFFCFC\"> quite</span><span style=\"background-color: #FFFBFB\"> a</span><span style=\"background-color: #FFF2F2\"> complex</span><span style=\"background-color: #FFE9E9\"> portrait</span><span style=\"background-color: #FFFDFD\"> of</span><span style=\"background-color: #FFFDFD\"> the</span><span style=\"background-color: #FFF6F6\"> current</span><span style=\"background-color: #FFFCFC\"> society</span><span style=\"background-color: #FFFEFE\"> .</span><span style=\"background-color: #FFFBFB\"> yes</span><span style=\"background-color: #FFFEFE\"> ,</span><span style=\"background-color: #FFFBFB\"> i</span><span style=\"background-color: #FFFAFA\"> think</span><span style=\"background-color: #FFFEFE\"> it</span><span style=\"background-color: #FFF9F9\"> does</span><span style=\"background-color: #FFFDFD\"> <unk></span><span style=\"background-color: #FFFBFB\"> a</span><span style=\"background-color: #FFFEFE\"> bit</span><span style=\"background-color: #FFFEFE\"> ,</span><span style=\"background-color: #FFFEFE\"> but</span><span style=\"background-color: #FFFEFE\"> in</span><span style=\"background-color: #FF4646\"> amusing</span><span style=\"background-color: #FFF3F3\"> ways</span><span style=\"background-color: #FFFEFE\"> that</span><span style=\"background-color: #FFFAFA\"> don</span><span style=\"background-color: #FFF8F8\"> t</span><span style=\"background-color: #FFF4F4\"> really</span><span style=\"background-color: #FFE6E6\"> detract</span><span style=\"background-color: #FFFEFE\"> from</span><span style=\"background-color: #FFFDFD\"> the</span><span style=\"background-color: #FFBEBE\"> power</span><span style=\"background-color: #FFFDFD\"> of</span><span style=\"background-color: #FFFEFE\"> its</span><span style=\"background-color: #FFF1F1\"> messages</span><span style=\"background-color: #FFFEFE\"> .</span><span style=\"background-color: #FFFEFE\"> susan</span><span style=\"background-color: #FFF9F9\"> sarandon</span><span style=\"background-color: #FFCDCD\"> debuted</span><span style=\"background-color: #FFFEFE\"> in</span><span style=\"background-color: #FFF5F5\"> this</span><span style=\"background-color: #FFF0F0\"> film</span><span style=\"background-color: #FFFEFE\"> ,</span><span style=\"background-color: #FFFEFE\"> and</span><span style=\"background-color: #FFFEFE\"> it</span><span style=\"background-color: #FFFCFC\"> s</span><span style=\"background-color: #FFF8F8\"> a</span><span style=\"background-color: #FFF0F0\"> shock</span><span style=\"background-color: #FFFDFD\"> to</span><span style=\"background-color: #FFF7F7\"> see</span><span style=\"background-color: #FFFEFE\"> how</span><span style=\"background-color: #FFFDFD\"> pretty</span><span style=\"background-color: #FFFEFE\"> she</span><span style=\"background-color: #FFF8F8\"> was</span><span style=\"background-color: #FFFBFB\"> around</span><span style=\"background-color: #FFFDFD\"> 23</span><span style=\"background-color: #FFFEFE\"> .</span><span style=\"background-color: #FFFDFD\"> well</span><span style=\"background-color: #FFF3F3\"> worth</span><span style=\"background-color: #FFE8E8\"> seeing</span><span style=\"background-color: #FFFEFE\"> .</span><span style=\"background-color: #FFFCFC\"> <eos></span><span style=\"background-color: #FFFFFF\"> <pad></span><span style=\"background-color: #FFFFFF\"> <pad></span><span style=\"background-color: #FFFFFF\"> <pad></span><span style=\"background-color: #FFFFFF\"> <pad></span><span style=\"background-color: #FFFFFF\"> <pad></span><span style=\"background-color: #FFFFFF\"> <pad></span><span style=\"background-color: #FFFFFF\"> <pad></span><span style=\"background-color: #FFFFFF\"> <pad></span><span style=\"background-color: #FFFFFF\"> <pad></span><span style=\"background-color: #FFFFFF\"> <pad></span><span style=\"background-color: #FFFFFF\"> <pad></span><span style=\"background-color: #FFFFFF\"> <pad></span><span style=\"background-color: #FFFFFF\"> <pad></span><span style=\"background-color: #FFFFFF\"> <pad></span><span style=\"background-color: #FFFFFF\"> <pad></span><span style=\"background-color: #FFFFFF\"> <pad></span><span style=\"background-color: #FFFFFF\"> <pad></span><span style=\"background-color: #FFFFFF\"> <pad></span><span style=\"background-color: #FFFFFF\"> <pad></span><span style=\"background-color: #FFFFFF\"> <pad></span><span style=\"background-color: #FFFFFF\"> <pad></span><span style=\"background-color: #FFFFFF\"> <pad></span><span style=\"background-color: #FFFFFF\"> <pad></span><span style=\"background-color: #FFFFFF\"> <pad></span><span style=\"background-color: #FFFFFF\"> <pad></span><span style=\"background-color: #FFFFFF\"> <pad></span><span style=\"background-color: #FFFFFF\"> <pad></span><span style=\"background-color: #FFFFFF\"> <pad></span><span style=\"background-color: #FFFFFF\"> <pad></span><span style=\"background-color: #FFFFFF\"> <pad></span><span style=\"background-color: #FFFFFF\"> <pad></span><span style=\"background-color: #FFFFFF\"> <pad></span><span style=\"background-color: #FFFFFF\"> <pad></span><span style=\"background-color: #FFFFFF\"> <pad></span><span style=\"background-color: #FFFFFF\"> <pad></span><span style=\"background-color: #FFFFFF\"> <pad></span><span style=\"background-color: #FFFFFF\"> <pad></span><span style=\"background-color: #FFFFFF\"> <pad></span><span style=\"background-color: #FFFFFF\"> <pad></span><span style=\"background-color: #FFFFFF\"> <pad></span><span style=\"background-color: #FFFFFF\"> <pad></span><span style=\"background-color: #FFFFFF\"> <pad></span><span style=\"background-color: #FFFFFF\"> <pad></span><span style=\"background-color: #FFFFFF\"> <pad></span><span style=\"background-color: #FFFFFF\"> <pad></span><span style=\"background-color: #FFFFFF\"> <pad></span><span style=\"background-color: #FFFFFF\"> <pad></span><span style=\"background-color: #FFFFFF\"> <pad></span><span style=\"background-color: #FFFFFF\"> <pad></span><span style=\"background-color: #FFFFFF\"> <pad></span><span style=\"background-color: #FFFFFF\"> <pad></span><span style=\"background-color: #FFFFFF\"> <pad></span><span style=\"background-color: #FFFFFF\"> <pad></span><span style=\"background-color: #FFFFFF\"> <pad></span><span style=\"background-color: #FFFFFF\"> <pad></span><span style=\"background-color: #FFFFFF\"> <pad></span><span style=\"background-color: #FFFFFF\"> <pad></span><span style=\"background-color: #FFFFFF\"> <pad></span><span style=\"background-color: #FFFFFF\"> <pad></span><span style=\"background-color: #FFFFFF\"> <pad></span><span style=\"background-color: #FFFFFF\"> <pad></span><span style=\"background-color: #FFFFFF\"> <pad></span><span style=\"background-color: #FFFFFF\"> <pad></span><span style=\"background-color: #FFFFFF\"> <pad></span><span style=\"background-color: #FFFFFF\"> <pad></span><span style=\"background-color: #FFFFFF\"> <pad></span><span style=\"background-color: #FFFFFF\"> <pad></span><span style=\"background-color: #FFFFFF\"> <pad></span><span style=\"background-color: #FFFFFF\"> <pad></span><span style=\"background-color: #FFFFFF\"> <pad></span><span style=\"background-color: #FFFFFF\"> <pad></span><span style=\"background-color: #FFFFFF\"> <pad></span><span style=\"background-color: #FFFFFF\"> <pad></span><span style=\"background-color: #FFFFFF\"> <pad></span><span style=\"background-color: #FFFFFF\"> <pad></span><span style=\"background-color: #FFFFFF\"> <pad></span><span style=\"background-color: #FFFFFF\"> <pad></span><span style=\"background-color: #FFFFFF\"> <pad></span><span style=\"background-color: #FFFFFF\"> <pad></span><span style=\"background-color: #FFFFFF\"> <pad></span><span style=\"background-color: #FFFFFF\"> <pad></span><span style=\"background-color: #FFFFFF\"> <pad></span><span style=\"background-color: #FFFFFF\"> <pad></span><span style=\"background-color: #FFFFFF\"> <pad></span><span style=\"background-color: #FFFFFF\"> <pad></span><span style=\"background-color: #FFFFFF\"> <pad></span><span style=\"background-color: #FFFFFF\"> <pad></span><br><br>[TransformerBlockの2段目のAttentionを可視化]<br><span style=\"background-color: #FFFDFD\"> <cls></span><span style=\"background-color: #FFF6F6\"> dennis</span><span style=\"background-color: #FFFCFC\"> patrick</span><span style=\"background-color: #FFFBFB\"> plays</span><span style=\"background-color: #FFFCFC\"> a</span><span style=\"background-color: #FFF0F0\"> man</span><span style=\"background-color: #FFFCFC\"> who</span><span style=\"background-color: #FFF8F8\"> accidentally</span><span style=\"background-color: #FFE7E7\"> kills</span><span style=\"background-color: #FFFCFC\"> his</span><span style=\"background-color: #FFFDFD\"> daughter</span><span style=\"background-color: #FFFCFC\"> s</span><span style=\"background-color: #FFFEFE\"> boyfriend</span><span style=\"background-color: #FFFEFE\"> and</span><span style=\"background-color: #FFFDFD\"> then</span><span style=\"background-color: #FFFBFB\"> reveals</span><span style=\"background-color: #FFFBFB\"> his</span><span style=\"background-color: #FFFDFD\"> secret</span><span style=\"background-color: #FFFDFD\"> at</span><span style=\"background-color: #FFFDFD\"> a</span><span style=\"background-color: #FFFDFD\"> local</span><span style=\"background-color: #FFF9F9\"> bar</span><span style=\"background-color: #FFFCFC\"> .</span><span style=\"background-color: #FFFBFB\"> joe</span><span style=\"background-color: #FFFAFA\"> peter</span><span style=\"background-color: #FFFAFA\"> boyle</span><span style=\"background-color: #FFF8F8\"> ,</span><span style=\"background-color: #FFFDFD\"> a</span><span style=\"background-color: #FFFEFE\"> <unk></span><span style=\"background-color: #FFFDFD\"> who</span><span style=\"background-color: #FFECEC\"> is</span><span style=\"background-color: #FFFDFD\"> getting</span><span style=\"background-color: #FFF1F1\"> drunk</span><span style=\"background-color: #FFFAFA\"> there</span><span style=\"background-color: #FFF7F7\"> ,</span><span style=\"background-color: #FFFCFC\"> at</span><span style=\"background-color: #FFFEFE\"> first</span><span style=\"background-color: #FFFCFC\"> takes</span><span style=\"background-color: #FFFCFC\"> it</span><span style=\"background-color: #FFFBFB\"> as</span><span style=\"background-color: #FFFDFD\"> a</span><span style=\"background-color: #FFF8F8\"> joke</span><span style=\"background-color: #FFF9F9\"> ,</span><span style=\"background-color: #FFF8F8\"> but</span><span style=\"background-color: #FFFDFD\"> then</span><span style=\"background-color: #FFFEFE\"> the</span><span style=\"background-color: #FFFCFC\"> story</span><span style=\"background-color: #FFEDED\"> is</span><span style=\"background-color: #FFF6F6\"> confirmed</span><span style=\"background-color: #FFFEFE\"> on</span><span style=\"background-color: #FFFEFE\"> the</span><span style=\"background-color: #FFF4F4\"> evening</span><span style=\"background-color: #FFFDFD\"> news</span><span style=\"background-color: #FFFCFC\"> .</span><span style=\"background-color: #FFF6F6\"> instead</span><span style=\"background-color: #FFFEFE\"> of</span><span style=\"background-color: #FFFBFB\"> calling</span><span style=\"background-color: #FFFEFE\"> the</span><span style=\"background-color: #FFFCFC\"> cops</span><span style=\"background-color: #FFFBFB\"> or</span><span style=\"background-color: #FFFEFE\"> the</span><span style=\"background-color: #FFF2F2\"> like</span><span style=\"background-color: #FFF7F7\"> ,</span><span style=\"background-color: #FFFBFB\"> joe</span><span style=\"background-color: #FFFCFC\"> decides</span><span style=\"background-color: #FFFDFD\"> that</span><span style=\"background-color: #FFFAFA\"> ,</span><span style=\"background-color: #FFFCFC\"> since</span><span style=\"background-color: #FFFEFE\"> the</span><span style=\"background-color: #FFF7F7\"> guy</span><span style=\"background-color: #FFEFEF\"> killed</span><span style=\"background-color: #FFFDFD\"> a</span><span style=\"background-color: #FFFEFE\"> hippie</span><span style=\"background-color: #FFF7F7\"> ,</span><span style=\"background-color: #FFFCFC\"> they</span><span style=\"background-color: #FFFEFE\"> must</span><span style=\"background-color: #FFF6F6\"> be</span><span style=\"background-color: #FFFBFB\"> <unk></span><span style=\"background-color: #FFEDED\"> spirits</span><span style=\"background-color: #FFEDED\"> he</span><span style=\"background-color: #FFFEFE\"> <unk></span><span style=\"background-color: #FFFEFE\"> the</span><span style=\"background-color: #FFF4F4\"> man</span><span style=\"background-color: #FFFDFD\"> into</span><span style=\"background-color: #FFFCFC\"> becoming</span><span style=\"background-color: #FFF8F8\"> his</span><span style=\"background-color: #FFDEDE\"> pal</span><span style=\"background-color: #FFFCFC\"> .</span><span style=\"background-color: #FFFDFD\"> at</span><span style=\"background-color: #FFFEFE\"> first</span><span style=\"background-color: #FFF9F9\"> ,</span><span style=\"background-color: #FFFEFE\"> the</span><span style=\"background-color: #FFFCFC\"> film</span><span style=\"background-color: #FFF3F3\"> seemed</span><span style=\"background-color: #FFB1B1\"> harsh</span><span style=\"background-color: #FFFEFE\"> and</span><span style=\"background-color: #FFFDFD\"> <unk></span><span style=\"background-color: #FFF9F9\"> ,</span><span style=\"background-color: #FFF8F8\"> but</span><span style=\"background-color: #FFF8F8\"> ,</span><span style=\"background-color: #FFFBFB\"> as</span><span style=\"background-color: #FFFCFC\"> it</span><span style=\"background-color: #FFFDFD\"> revealed</span><span style=\"background-color: #FFF8F8\"> itself</span><span style=\"background-color: #FFF8F8\"> ,</span><span style=\"background-color: #FFFBFB\"> it</span><span style=\"background-color: #FFFDFD\"> actually</span><span style=\"background-color: #FFFEFE\"> became</span><span style=\"background-color: #FFB2B2\"> quite</span><span style=\"background-color: #FFFDFD\"> a</span><span style=\"background-color: #FFF6F6\"> complex</span><span style=\"background-color: #FFFBFB\"> portrait</span><span style=\"background-color: #FFFEFE\"> of</span><span style=\"background-color: #FFFEFE\"> the</span><span style=\"background-color: #FFFDFD\"> current</span><span style=\"background-color: #FFFEFE\"> society</span><span style=\"background-color: #FFFDFD\"> .</span><span style=\"background-color: #FFD5D5\"> yes</span><span style=\"background-color: #FFF8F8\"> ,</span><span style=\"background-color: #FFFEFE\"> i</span><span style=\"background-color: #FFFDFD\"> think</span><span style=\"background-color: #FFFBFB\"> it</span><span style=\"background-color: #FFFBFB\"> does</span><span style=\"background-color: #FFFEFE\"> <unk></span><span style=\"background-color: #FFFDFD\"> a</span><span style=\"background-color: #FFEDED\"> bit</span><span style=\"background-color: #FFF6F6\"> ,</span><span style=\"background-color: #FFF8F8\"> but</span><span style=\"background-color: #FFFEFE\"> in</span><span style=\"background-color: #FF0000\"> amusing</span><span style=\"background-color: #FFEFEF\"> ways</span><span style=\"background-color: #FFFCFC\"> that</span><span style=\"background-color: #FFEFEF\"> don</span><span style=\"background-color: #FFEEEE\"> t</span><span style=\"background-color: #FFF8F8\"> really</span><span style=\"background-color: #FFFBFB\"> detract</span><span style=\"background-color: #FFFDFD\"> from</span><span style=\"background-color: #FFFEFE\"> the</span><span style=\"background-color: #FFFCFC\"> power</span><span style=\"background-color: #FFFEFE\"> of</span><span style=\"background-color: #FFFBFB\"> its</span><span style=\"background-color: #FFFCFC\"> messages</span><span style=\"background-color: #FFFCFC\"> .</span><span style=\"background-color: #FFF1F1\"> susan</span><span style=\"background-color: #FFFEFE\"> sarandon</span><span style=\"background-color: #FFFEFE\"> debuted</span><span style=\"background-color: #FFFEFE\"> in</span><span style=\"background-color: #FFF9F9\"> this</span><span style=\"background-color: #FFFCFC\"> film</span><span style=\"background-color: #FFF3F3\"> ,</span><span style=\"background-color: #FFFDFD\"> and</span><span style=\"background-color: #FFFBFB\"> it</span><span style=\"background-color: #FFFCFC\"> s</span><span style=\"background-color: #FFFDFD\"> a</span><span style=\"background-color: #FFF2F2\"> shock</span><span style=\"background-color: #FFFEFE\"> to</span><span style=\"background-color: #FFFBFB\"> see</span><span style=\"background-color: #FFF9F9\"> how</span><span style=\"background-color: #FF8585\"> pretty</span><span style=\"background-color: #FFFAFA\"> she</span><span style=\"background-color: #FFFDFD\"> was</span><span style=\"background-color: #FFFBFB\"> around</span><span style=\"background-color: #FFFCFC\"> 23</span><span style=\"background-color: #FFFCFC\"> .</span><span style=\"background-color: #FFACAC\"> well</span><span style=\"background-color: #FFEDED\"> worth</span><span style=\"background-color: #FFFDFD\"> seeing</span><span style=\"background-color: #FFFBFB\"> .</span><span style=\"background-color: #FFFCFC\"> <eos></span><span style=\"background-color: #FFFFFF\"> <pad></span><span style=\"background-color: #FFFFFF\"> <pad></span><span style=\"background-color: #FFFFFF\"> <pad></span><span style=\"background-color: #FFFFFF\"> <pad></span><span style=\"background-color: #FFFFFF\"> <pad></span><span style=\"background-color: #FFFFFF\"> <pad></span><span style=\"background-color: #FFFFFF\"> <pad></span><span style=\"background-color: #FFFFFF\"> <pad></span><span style=\"background-color: #FFFFFF\"> <pad></span><span style=\"background-color: #FFFFFF\"> <pad></span><span style=\"background-color: #FFFFFF\"> <pad></span><span style=\"background-color: #FFFFFF\"> <pad></span><span style=\"background-color: #FFFFFF\"> <pad></span><span style=\"background-color: #FFFFFF\"> <pad></span><span style=\"background-color: #FFFFFF\"> <pad></span><span style=\"background-color: #FFFFFF\"> <pad></span><span style=\"background-color: #FFFFFF\"> <pad></span><span style=\"background-color: #FFFFFF\"> <pad></span><span style=\"background-color: #FFFFFF\"> <pad></span><span style=\"background-color: #FFFFFF\"> <pad></span><span style=\"background-color: #FFFFFF\"> <pad></span><span style=\"background-color: #FFFFFF\"> <pad></span><span style=\"background-color: #FFFFFF\"> <pad></span><span style=\"background-color: #FFFFFF\"> <pad></span><span style=\"background-color: #FFFFFF\"> <pad></span><span style=\"background-color: #FFFFFF\"> <pad></span><span style=\"background-color: #FFFFFF\"> <pad></span><span style=\"background-color: #FFFFFF\"> <pad></span><span style=\"background-color: #FFFFFF\"> <pad></span><span style=\"background-color: #FFFFFF\"> <pad></span><span style=\"background-color: #FFFFFF\"> <pad></span><span style=\"background-color: #FFFFFF\"> <pad></span><span style=\"background-color: #FFFFFF\"> <pad></span><span style=\"background-color: #FFFFFF\"> <pad></span><span style=\"background-color: #FFFFFF\"> <pad></span><span style=\"background-color: #FFFFFF\"> <pad></span><span style=\"background-color: #FFFFFF\"> <pad></span><span style=\"background-color: #FFFFFF\"> <pad></span><span style=\"background-color: #FFFFFF\"> <pad></span><span style=\"background-color: #FFFFFF\"> <pad></span><span style=\"background-color: #FFFFFF\"> <pad></span><span style=\"background-color: #FFFFFF\"> <pad></span><span style=\"background-color: #FFFFFF\"> <pad></span><span style=\"background-color: #FFFFFF\"> <pad></span><span style=\"background-color: #FFFFFF\"> <pad></span><span style=\"background-color: #FFFFFF\"> <pad></span><span style=\"background-color: #FFFFFF\"> <pad></span><span style=\"background-color: #FFFFFF\"> <pad></span><span style=\"background-color: #FFFFFF\"> <pad></span><span style=\"background-color: #FFFFFF\"> <pad></span><span style=\"background-color: #FFFFFF\"> <pad></span><span style=\"background-color: #FFFFFF\"> <pad></span><span style=\"background-color: #FFFFFF\"> <pad></span><span style=\"background-color: #FFFFFF\"> <pad></span><span style=\"background-color: #FFFFFF\"> <pad></span><span style=\"background-color: #FFFFFF\"> <pad></span><span style=\"background-color: #FFFFFF\"> <pad></span><span style=\"background-color: #FFFFFF\"> <pad></span><span style=\"background-color: #FFFFFF\"> <pad></span><span style=\"background-color: #FFFFFF\"> <pad></span><span style=\"background-color: #FFFFFF\"> <pad></span><span style=\"background-color: #FFFFFF\"> <pad></span><span style=\"background-color: #FFFFFF\"> <pad></span><span style=\"background-color: #FFFFFF\"> <pad></span><span style=\"background-color: #FFFFFF\"> <pad></span><span style=\"background-color: #FFFFFF\"> <pad></span><span style=\"background-color: #FFFFFF\"> <pad></span><span style=\"background-color: #FFFFFF\"> <pad></span><span style=\"background-color: #FFFFFF\"> <pad></span><span style=\"background-color: #FFFFFF\"> <pad></span><span style=\"background-color: #FFFFFF\"> <pad></span><span style=\"background-color: #FFFFFF\"> <pad></span><span style=\"background-color: #FFFFFF\"> <pad></span><span style=\"background-color: #FFFFFF\"> <pad></span><span style=\"background-color: #FFFFFF\"> <pad></span><span style=\"background-color: #FFFFFF\"> <pad></span><span style=\"background-color: #FFFFFF\"> <pad></span><span style=\"background-color: #FFFFFF\"> <pad></span><span style=\"background-color: #FFFFFF\"> <pad></span><span style=\"background-color: #FFFFFF\"> <pad></span><span style=\"background-color: #FFFFFF\"> <pad></span><span style=\"background-color: #FFFFFF\"> <pad></span><span style=\"background-color: #FFFFFF\"> <pad></span><span style=\"background-color: #FFFFFF\"> <pad></span><span style=\"background-color: #FFFFFF\"> <pad></span><span style=\"background-color: #FFFFFF\"> <pad></span><span style=\"background-color: #FFFFFF\"> <pad></span><br><br>"
            ],
            "text/plain": [
              "<IPython.core.display.HTML object>"
            ]
          },
          "metadata": {
            "tags": []
          },
          "execution_count": 18
        }
      ]
    },
    {
      "cell_type": "code",
      "metadata": {
        "id": "nqW9l3CBcYJJ",
        "colab_type": "code",
        "colab": {
          "base_uri": "https://localhost:8080/",
          "height": 306
        },
        "outputId": "641268ff-eee6-4bd1-98a5-88a614ae7ec5"
      },
      "source": [
        "index = 61  # 出力させたいデータ\n",
        "html_output = mk_html(index, batch, preds, normlized_weights_1,\n",
        "                      normlized_weights_2, TEXT)  # HTML作成\n",
        "HTML(html_output)  # HTML形式で出力\n"
      ],
      "execution_count": null,
      "outputs": [
        {
          "output_type": "execute_result",
          "data": {
            "text/html": [
              "正解ラベル：Positive<br>推論ラベル：Negative<br><br>[TransformerBlockの1段目のAttentionを可視化]<br><span style=\"background-color: #FFF1F1\"> <cls></span><span style=\"background-color: #FFEAEA\"> this</span><span style=\"background-color: #FFFAFA\"> is</span><span style=\"background-color: #FFF6F6\"> a</span><span style=\"background-color: #FFFBFB\"> low</span><span style=\"background-color: #FFEFEF\"> budget</span><span style=\"background-color: #FFDFDF\"> stop</span><span style=\"background-color: #FFF8F8\"> motion</span><span style=\"background-color: #FFEDED\"> monster</span><span style=\"background-color: #FFC2C2\"> movie</span><span style=\"background-color: #FFFEFE\"> from</span><span style=\"background-color: #FFB4B4\"> brett</span><span style=\"background-color: #FFFAFA\"> a</span><span style=\"background-color: #FFFEFE\"> <unk></span><span style=\"background-color: #FFFBFB\"> barbarian</span><span style=\"background-color: #FFFEFE\"> in</span><span style=\"background-color: #FFFAFA\"> dinosaur</span><span style=\"background-color: #FFFDFD\"> hell</span><span style=\"background-color: #FFFEFE\"> piper</span><span style=\"background-color: #FFFEFE\"> .</span><span style=\"background-color: #FFFEFE\"> .</span><span style=\"background-color: #FFFEFE\"> .</span><span style=\"background-color: #FFFEFE\"> and</span><span style=\"background-color: #FFFDFD\"> it</span><span style=\"background-color: #FFFBFB\"> delivers</span><span style=\"background-color: #FFF0F0\"> just</span><span style=\"background-color: #FFFDFD\"> what</span><span style=\"background-color: #FFF8F8\"> i</span><span style=\"background-color: #FFFDFD\"> d</span><span style=\"background-color: #FFF7F7\"> expect</span><span style=\"background-color: #FFFEFE\"> from</span><span style=\"background-color: #FFFBFB\"> such</span><span style=\"background-color: #FFF9F9\"> a</span><span style=\"background-color: #FFDADA\"> production</span><span style=\"background-color: #FFCBCB\"> light</span><span style=\"background-color: #FFA4A4\"> hearted</span><span style=\"background-color: #FFFCFC\"> though</span><span style=\"background-color: #FF7474\"> cheesy</span><span style=\"background-color: #FF5858\"> dialogue</span><span style=\"background-color: #FFFEFE\"> ,</span><span style=\"background-color: #FFFDFD\"> some</span><span style=\"background-color: #FFA3A3\"> cute</span><span style=\"background-color: #FFF8F8\"> actresses</span><span style=\"background-color: #FFFEFE\"> and</span><span style=\"background-color: #FFF4F4\"> lots</span><span style=\"background-color: #FFFCFC\"> of</span><span style=\"background-color: #FFDEDE\"> stop</span><span style=\"background-color: #FFF7F7\"> motion</span><span style=\"background-color: #FFF1F1\"> critters</span><span style=\"background-color: #FFFEFE\"> .</span><span style=\"background-color: #FFFDFD\"> that</span><span style=\"background-color: #FFFBFB\"> s</span><span style=\"background-color: #FFFCFC\"> why</span><span style=\"background-color: #FFF9F9\"> i</span><span style=\"background-color: #FFF9F9\"> ve</span><span style=\"background-color: #FFF5F5\"> given</span><span style=\"background-color: #FFFDFD\"> the</span><span style=\"background-color: #FFEAEA\"> film</span><span style=\"background-color: #FFFBFB\"> 10</span><span style=\"background-color: #FFFBFB\"> out</span><span style=\"background-color: #FFFAFA\"> of</span><span style=\"background-color: #FFFBFB\"> 10</span><span style=\"background-color: #FFFCFC\"> because</span><span style=\"background-color: #FFFDFD\"> it</span><span style=\"background-color: #FFFAFA\"> delivers</span><span style=\"background-color: #FFFCFC\"> what</span><span style=\"background-color: #FFF7F7\"> i</span><span style=\"background-color: #FFEBEB\"> expected</span><span style=\"background-color: #FFFDFD\"> it</span><span style=\"background-color: #FFFDFD\"> to</span><span style=\"background-color: #FFFBFB\"> deliver</span><span style=\"background-color: #FFFEFE\"> .</span><span style=\"background-color: #FFFEFE\"> .</span><span style=\"background-color: #FFFEFE\"> .</span><span style=\"background-color: #FFFEFE\"> and</span><span style=\"background-color: #FFF9F9\"> a</span><span style=\"background-color: #FFFDFD\"> bit</span><span style=\"background-color: #FFFEFE\"> more</span><span style=\"background-color: #FFADAD\"> brett</span><span style=\"background-color: #FFF0F0\"> doesn</span><span style=\"background-color: #FFEBEB\"> t</span><span style=\"background-color: #FFF8F8\"> penny</span><span style=\"background-color: #FFF5F5\"> <unk></span><span style=\"background-color: #FFFEFE\"> when</span><span style=\"background-color: #FFFDFD\"> it</span><span style=\"background-color: #FFEAEA\"> comes</span><span style=\"background-color: #FFFCFC\"> to</span><span style=\"background-color: #FFF8F8\"> putting</span><span style=\"background-color: #FFFAFA\"> his</span><span style=\"background-color: #FFF1F1\"> critters</span><span style=\"background-color: #FFFCFC\"> on</span><span style=\"background-color: #FFE1E1\"> screen</span><span style=\"background-color: #FFFEFE\"> .</span><span style=\"background-color: #FFFEFE\"> he</span><span style=\"background-color: #FFFCFC\"> <unk></span><span style=\"background-color: #FFF1F1\"> lots</span><span style=\"background-color: #FFFBFB\"> of</span><span style=\"background-color: #FF8080\"> bugs</span><span style=\"background-color: #FFFEFE\"> at</span><span style=\"background-color: #FFF9F9\"> his</span><span style=\"background-color: #FFC3C3\"> cast</span><span style=\"background-color: #FFFDFD\"> for</span><span style=\"background-color: #FFFCFC\"> the</span><span style=\"background-color: #FFD2D2\"> finale</span><span style=\"background-color: #FFFEFE\"> .</span><span style=\"background-color: #FFFEFE\"> and</span><span style=\"background-color: #FFFEFE\"> ,</span><span style=\"background-color: #FFFDFD\"> anyway</span><span style=\"background-color: #FFFEFE\"> ,</span><span style=\"background-color: #FFF9F9\"> i</span><span style=\"background-color: #FFC3C3\"> love</span><span style=\"background-color: #FFDFDF\"> stop</span><span style=\"background-color: #FFF8F8\"> motion</span><span style=\"background-color: #FFDDDD\"> monsters</span><span style=\"background-color: #FFFEFE\"> which</span><span style=\"background-color: #FFFEFE\"> ,</span><span style=\"background-color: #FFF1F1\"> compared</span><span style=\"background-color: #FFFDFD\"> to</span><span style=\"background-color: #FFFBFB\"> cgi</span><span style=\"background-color: #FFF5F5\"> critters</span><span style=\"background-color: #FFFEFE\"> in</span><span style=\"background-color: #FFF2F2\"> bigger</span><span style=\"background-color: #FFC5C5\"> budgeted</span><span style=\"background-color: #FFE3E3\"> movies</span><span style=\"background-color: #FFFEFE\"> ,</span><span style=\"background-color: #FFF7F7\"> just</span><span style=\"background-color: #FFD8D8\"> seem</span><span style=\"background-color: #FFFDFD\"> to</span><span style=\"background-color: #FFFCFC\"> be</span><span style=\"background-color: #FFFDFD\"> that</span><span style=\"background-color: #FFFCFC\"> much</span><span style=\"background-color: #FF0000\"> fun</span><span style=\"background-color: #FFFDFD\"> to</span><span style=\"background-color: #FFF0F0\"> watch</span><span style=\"background-color: #FFFEFE\"> .</span><span style=\"background-color: #FFFEFE\"> <eos></span><span style=\"background-color: #FFFFFF\"> <pad></span><span style=\"background-color: #FFFFFF\"> <pad></span><span style=\"background-color: #FFFFFF\"> <pad></span><span style=\"background-color: #FFFFFF\"> <pad></span><span style=\"background-color: #FFFFFF\"> <pad></span><span style=\"background-color: #FFFFFF\"> <pad></span><span style=\"background-color: #FFFFFF\"> <pad></span><span style=\"background-color: #FFFFFF\"> <pad></span><span style=\"background-color: #FFFFFF\"> <pad></span><span style=\"background-color: #FFFFFF\"> <pad></span><span style=\"background-color: #FFFFFF\"> <pad></span><span style=\"background-color: #FFFFFF\"> <pad></span><span style=\"background-color: #FFFFFF\"> <pad></span><span style=\"background-color: #FFFFFF\"> <pad></span><span style=\"background-color: #FFFFFF\"> <pad></span><span style=\"background-color: #FFFFFF\"> <pad></span><span style=\"background-color: #FFFFFF\"> <pad></span><span style=\"background-color: #FFFFFF\"> <pad></span><span style=\"background-color: #FFFFFF\"> <pad></span><span style=\"background-color: #FFFFFF\"> <pad></span><span style=\"background-color: #FFFFFF\"> <pad></span><span style=\"background-color: #FFFFFF\"> <pad></span><span style=\"background-color: #FFFFFF\"> <pad></span><span style=\"background-color: #FFFFFF\"> <pad></span><span style=\"background-color: #FFFFFF\"> <pad></span><span style=\"background-color: #FFFFFF\"> <pad></span><span style=\"background-color: #FFFFFF\"> <pad></span><span style=\"background-color: #FFFFFF\"> <pad></span><span style=\"background-color: #FFFFFF\"> <pad></span><span style=\"background-color: #FFFFFF\"> <pad></span><span style=\"background-color: #FFFFFF\"> <pad></span><span style=\"background-color: #FFFFFF\"> <pad></span><span style=\"background-color: #FFFFFF\"> <pad></span><span style=\"background-color: #FFFFFF\"> <pad></span><span style=\"background-color: #FFFFFF\"> <pad></span><span style=\"background-color: #FFFFFF\"> <pad></span><span style=\"background-color: #FFFFFF\"> <pad></span><span style=\"background-color: #FFFFFF\"> <pad></span><span style=\"background-color: #FFFFFF\"> <pad></span><span style=\"background-color: #FFFFFF\"> <pad></span><span style=\"background-color: #FFFFFF\"> <pad></span><span style=\"background-color: #FFFFFF\"> <pad></span><span style=\"background-color: #FFFFFF\"> <pad></span><span style=\"background-color: #FFFFFF\"> <pad></span><span style=\"background-color: #FFFFFF\"> <pad></span><span style=\"background-color: #FFFFFF\"> <pad></span><span style=\"background-color: #FFFFFF\"> <pad></span><span style=\"background-color: #FFFFFF\"> <pad></span><span style=\"background-color: #FFFFFF\"> <pad></span><span style=\"background-color: #FFFFFF\"> <pad></span><span style=\"background-color: #FFFFFF\"> <pad></span><span style=\"background-color: #FFFFFF\"> <pad></span><span style=\"background-color: #FFFFFF\"> <pad></span><span style=\"background-color: #FFFFFF\"> <pad></span><span style=\"background-color: #FFFFFF\"> <pad></span><span style=\"background-color: #FFFFFF\"> <pad></span><span style=\"background-color: #FFFFFF\"> <pad></span><span style=\"background-color: #FFFFFF\"> <pad></span><span style=\"background-color: #FFFFFF\"> <pad></span><span style=\"background-color: #FFFFFF\"> <pad></span><span style=\"background-color: #FFFFFF\"> <pad></span><span style=\"background-color: #FFFFFF\"> <pad></span><span style=\"background-color: #FFFFFF\"> <pad></span><span style=\"background-color: #FFFFFF\"> <pad></span><span style=\"background-color: #FFFFFF\"> <pad></span><span style=\"background-color: #FFFFFF\"> <pad></span><span style=\"background-color: #FFFFFF\"> <pad></span><span style=\"background-color: #FFFFFF\"> <pad></span><span style=\"background-color: #FFFFFF\"> <pad></span><span style=\"background-color: #FFFFFF\"> <pad></span><span style=\"background-color: #FFFFFF\"> <pad></span><span style=\"background-color: #FFFFFF\"> <pad></span><span style=\"background-color: #FFFFFF\"> <pad></span><span style=\"background-color: #FFFFFF\"> <pad></span><span style=\"background-color: #FFFFFF\"> <pad></span><span style=\"background-color: #FFFFFF\"> <pad></span><span style=\"background-color: #FFFFFF\"> <pad></span><span style=\"background-color: #FFFFFF\"> <pad></span><span style=\"background-color: #FFFFFF\"> <pad></span><span style=\"background-color: #FFFFFF\"> <pad></span><span style=\"background-color: #FFFFFF\"> <pad></span><span style=\"background-color: #FFFFFF\"> <pad></span><span style=\"background-color: #FFFFFF\"> <pad></span><span style=\"background-color: #FFFFFF\"> <pad></span><span style=\"background-color: #FFFFFF\"> <pad></span><span style=\"background-color: #FFFFFF\"> <pad></span><span style=\"background-color: #FFFFFF\"> <pad></span><span style=\"background-color: #FFFFFF\"> <pad></span><span style=\"background-color: #FFFFFF\"> <pad></span><span style=\"background-color: #FFFFFF\"> <pad></span><span style=\"background-color: #FFFFFF\"> <pad></span><span style=\"background-color: #FFFFFF\"> <pad></span><span style=\"background-color: #FFFFFF\"> <pad></span><span style=\"background-color: #FFFFFF\"> <pad></span><span style=\"background-color: #FFFFFF\"> <pad></span><span style=\"background-color: #FFFFFF\"> <pad></span><span style=\"background-color: #FFFFFF\"> <pad></span><span style=\"background-color: #FFFFFF\"> <pad></span><span style=\"background-color: #FFFFFF\"> <pad></span><span style=\"background-color: #FFFFFF\"> <pad></span><span style=\"background-color: #FFFFFF\"> <pad></span><span style=\"background-color: #FFFFFF\"> <pad></span><span style=\"background-color: #FFFFFF\"> <pad></span><span style=\"background-color: #FFFFFF\"> <pad></span><span style=\"background-color: #FFFFFF\"> <pad></span><span style=\"background-color: #FFFFFF\"> <pad></span><span style=\"background-color: #FFFFFF\"> <pad></span><span style=\"background-color: #FFFFFF\"> <pad></span><span style=\"background-color: #FFFFFF\"> <pad></span><span style=\"background-color: #FFFFFF\"> <pad></span><span style=\"background-color: #FFFFFF\"> <pad></span><span style=\"background-color: #FFFFFF\"> <pad></span><span style=\"background-color: #FFFFFF\"> <pad></span><span style=\"background-color: #FFFFFF\"> <pad></span><span style=\"background-color: #FFFFFF\"> <pad></span><span style=\"background-color: #FFFFFF\"> <pad></span><span style=\"background-color: #FFFFFF\"> <pad></span><span style=\"background-color: #FFFFFF\"> <pad></span><span style=\"background-color: #FFFFFF\"> <pad></span><span style=\"background-color: #FFFFFF\"> <pad></span><br><br>[TransformerBlockの2段目のAttentionを可視化]<br><span style=\"background-color: #FFFDFD\"> <cls></span><span style=\"background-color: #FFFBFB\"> this</span><span style=\"background-color: #FFF9F9\"> is</span><span style=\"background-color: #FFFEFE\"> a</span><span style=\"background-color: #FF0000\"> low</span><span style=\"background-color: #FFFCFC\"> budget</span><span style=\"background-color: #FFE2E2\"> stop</span><span style=\"background-color: #FFFCFC\"> motion</span><span style=\"background-color: #FFF3F3\"> monster</span><span style=\"background-color: #FFFEFE\"> movie</span><span style=\"background-color: #FFFEFE\"> from</span><span style=\"background-color: #FFFCFC\"> brett</span><span style=\"background-color: #FFFEFE\"> a</span><span style=\"background-color: #FFFEFE\"> <unk></span><span style=\"background-color: #FFF2F2\"> barbarian</span><span style=\"background-color: #FFFEFE\"> in</span><span style=\"background-color: #FFF3F3\"> dinosaur</span><span style=\"background-color: #FFF5F5\"> hell</span><span style=\"background-color: #FFFDFD\"> piper</span><span style=\"background-color: #FFFDFD\"> .</span><span style=\"background-color: #FFFDFD\"> .</span><span style=\"background-color: #FFFDFD\"> .</span><span style=\"background-color: #FFFEFE\"> and</span><span style=\"background-color: #FFFEFE\"> it</span><span style=\"background-color: #FFC1C1\"> delivers</span><span style=\"background-color: #FFFEFE\"> just</span><span style=\"background-color: #FFFDFD\"> what</span><span style=\"background-color: #FFFEFE\"> i</span><span style=\"background-color: #FFFDFD\"> d</span><span style=\"background-color: #FFF8F8\"> expect</span><span style=\"background-color: #FFFEFE\"> from</span><span style=\"background-color: #FFEDED\"> such</span><span style=\"background-color: #FFFEFE\"> a</span><span style=\"background-color: #FFFEFE\"> production</span><span style=\"background-color: #FFF7F7\"> light</span><span style=\"background-color: #FF6868\"> hearted</span><span style=\"background-color: #FFEEEE\"> though</span><span style=\"background-color: #FF5F5F\"> cheesy</span><span style=\"background-color: #FFFDFD\"> dialogue</span><span style=\"background-color: #FFFEFE\"> ,</span><span style=\"background-color: #FFEEEE\"> some</span><span style=\"background-color: #FFEBEB\"> cute</span><span style=\"background-color: #FFFEFE\"> actresses</span><span style=\"background-color: #FFFEFE\"> and</span><span style=\"background-color: #FFFAFA\"> lots</span><span style=\"background-color: #FFFEFE\"> of</span><span style=\"background-color: #FFF0F0\"> stop</span><span style=\"background-color: #FFFCFC\"> motion</span><span style=\"background-color: #FFF6F6\"> critters</span><span style=\"background-color: #FFFDFD\"> .</span><span style=\"background-color: #FFFEFE\"> that</span><span style=\"background-color: #FFFDFD\"> s</span><span style=\"background-color: #FFFDFD\"> why</span><span style=\"background-color: #FFFEFE\"> i</span><span style=\"background-color: #FFFBFB\"> ve</span><span style=\"background-color: #FFFDFD\"> given</span><span style=\"background-color: #FFFEFE\"> the</span><span style=\"background-color: #FFFEFE\"> film</span><span style=\"background-color: #FFFEFE\"> 10</span><span style=\"background-color: #FFF9F9\"> out</span><span style=\"background-color: #FFFEFE\"> of</span><span style=\"background-color: #FFFEFE\"> 10</span><span style=\"background-color: #FFFDFD\"> because</span><span style=\"background-color: #FFFEFE\"> it</span><span style=\"background-color: #FFB4B4\"> delivers</span><span style=\"background-color: #FFFDFD\"> what</span><span style=\"background-color: #FFFEFE\"> i</span><span style=\"background-color: #FFFBFB\"> expected</span><span style=\"background-color: #FFFEFE\"> it</span><span style=\"background-color: #FFFEFE\"> to</span><span style=\"background-color: #FFE3E3\"> deliver</span><span style=\"background-color: #FFFDFD\"> .</span><span style=\"background-color: #FFFDFD\"> .</span><span style=\"background-color: #FFFDFD\"> .</span><span style=\"background-color: #FFFEFE\"> and</span><span style=\"background-color: #FFFEFE\"> a</span><span style=\"background-color: #FFF4F4\"> bit</span><span style=\"background-color: #FFE5E5\"> more</span><span style=\"background-color: #FFFAFA\"> brett</span><span style=\"background-color: #FFFBFB\"> doesn</span><span style=\"background-color: #FFE8E8\"> t</span><span style=\"background-color: #FFFCFC\"> penny</span><span style=\"background-color: #FFFEFE\"> <unk></span><span style=\"background-color: #FFFEFE\"> when</span><span style=\"background-color: #FFFEFE\"> it</span><span style=\"background-color: #FFFDFD\"> comes</span><span style=\"background-color: #FFFEFE\"> to</span><span style=\"background-color: #FFFEFE\"> putting</span><span style=\"background-color: #FFFCFC\"> his</span><span style=\"background-color: #FFF9F9\"> critters</span><span style=\"background-color: #FFFEFE\"> on</span><span style=\"background-color: #FFFEFE\"> screen</span><span style=\"background-color: #FFFEFE\"> .</span><span style=\"background-color: #FFF9F9\"> he</span><span style=\"background-color: #FFFEFE\"> <unk></span><span style=\"background-color: #FFFAFA\"> lots</span><span style=\"background-color: #FFFEFE\"> of</span><span style=\"background-color: #FFFBFB\"> bugs</span><span style=\"background-color: #FFFEFE\"> at</span><span style=\"background-color: #FFFDFD\"> his</span><span style=\"background-color: #FFFEFE\"> cast</span><span style=\"background-color: #FFFEFE\"> for</span><span style=\"background-color: #FFFEFE\"> the</span><span style=\"background-color: #FFFEFE\"> finale</span><span style=\"background-color: #FFFEFE\"> .</span><span style=\"background-color: #FFFEFE\"> and</span><span style=\"background-color: #FFFEFE\"> ,</span><span style=\"background-color: #FFF8F8\"> anyway</span><span style=\"background-color: #FFFEFE\"> ,</span><span style=\"background-color: #FFFEFE\"> i</span><span style=\"background-color: #FFFEFE\"> love</span><span style=\"background-color: #FFEFEF\"> stop</span><span style=\"background-color: #FFFCFC\"> motion</span><span style=\"background-color: #FFF1F1\"> monsters</span><span style=\"background-color: #FFFEFE\"> which</span><span style=\"background-color: #FFFEFE\"> ,</span><span style=\"background-color: #FFFBFB\"> compared</span><span style=\"background-color: #FFFEFE\"> to</span><span style=\"background-color: #FFE9E9\"> cgi</span><span style=\"background-color: #FFF9F9\"> critters</span><span style=\"background-color: #FFFEFE\"> in</span><span style=\"background-color: #FFF7F7\"> bigger</span><span style=\"background-color: #FFFDFD\"> budgeted</span><span style=\"background-color: #FFFCFC\"> movies</span><span style=\"background-color: #FFFEFE\"> ,</span><span style=\"background-color: #FFFEFE\"> just</span><span style=\"background-color: #FFEAEA\"> seem</span><span style=\"background-color: #FFFEFE\"> to</span><span style=\"background-color: #FFF8F8\"> be</span><span style=\"background-color: #FFFEFE\"> that</span><span style=\"background-color: #FFEEEE\"> much</span><span style=\"background-color: #FFC4C4\"> fun</span><span style=\"background-color: #FFFEFE\"> to</span><span style=\"background-color: #FFFBFB\"> watch</span><span style=\"background-color: #FFFEFE\"> .</span><span style=\"background-color: #FFFEFE\"> <eos></span><span style=\"background-color: #FFFFFF\"> <pad></span><span style=\"background-color: #FFFFFF\"> <pad></span><span style=\"background-color: #FFFFFF\"> <pad></span><span style=\"background-color: #FFFFFF\"> <pad></span><span style=\"background-color: #FFFFFF\"> <pad></span><span style=\"background-color: #FFFFFF\"> <pad></span><span style=\"background-color: #FFFFFF\"> <pad></span><span style=\"background-color: #FFFFFF\"> <pad></span><span style=\"background-color: #FFFFFF\"> <pad></span><span style=\"background-color: #FFFFFF\"> <pad></span><span style=\"background-color: #FFFFFF\"> <pad></span><span style=\"background-color: #FFFFFF\"> <pad></span><span style=\"background-color: #FFFFFF\"> <pad></span><span style=\"background-color: #FFFFFF\"> <pad></span><span style=\"background-color: #FFFFFF\"> <pad></span><span style=\"background-color: #FFFFFF\"> <pad></span><span style=\"background-color: #FFFFFF\"> <pad></span><span style=\"background-color: #FFFFFF\"> <pad></span><span style=\"background-color: #FFFFFF\"> <pad></span><span style=\"background-color: #FFFFFF\"> <pad></span><span style=\"background-color: #FFFFFF\"> <pad></span><span style=\"background-color: #FFFFFF\"> <pad></span><span style=\"background-color: #FFFFFF\"> <pad></span><span style=\"background-color: #FFFFFF\"> <pad></span><span style=\"background-color: #FFFFFF\"> <pad></span><span style=\"background-color: #FFFFFF\"> <pad></span><span style=\"background-color: #FFFFFF\"> <pad></span><span style=\"background-color: #FFFFFF\"> <pad></span><span style=\"background-color: #FFFFFF\"> <pad></span><span style=\"background-color: #FFFFFF\"> <pad></span><span style=\"background-color: #FFFFFF\"> <pad></span><span style=\"background-color: #FFFFFF\"> <pad></span><span style=\"background-color: #FFFFFF\"> <pad></span><span style=\"background-color: #FFFFFF\"> <pad></span><span style=\"background-color: #FFFFFF\"> <pad></span><span style=\"background-color: #FFFFFF\"> <pad></span><span style=\"background-color: #FFFFFF\"> <pad></span><span style=\"background-color: #FFFFFF\"> <pad></span><span style=\"background-color: #FFFFFF\"> <pad></span><span style=\"background-color: #FFFFFF\"> <pad></span><span style=\"background-color: #FFFFFF\"> <pad></span><span style=\"background-color: #FFFFFF\"> <pad></span><span style=\"background-color: #FFFFFF\"> <pad></span><span style=\"background-color: #FFFFFF\"> <pad></span><span style=\"background-color: #FFFFFF\"> <pad></span><span style=\"background-color: #FFFFFF\"> <pad></span><span style=\"background-color: #FFFFFF\"> <pad></span><span style=\"background-color: #FFFFFF\"> <pad></span><span style=\"background-color: #FFFFFF\"> <pad></span><span style=\"background-color: #FFFFFF\"> <pad></span><span style=\"background-color: #FFFFFF\"> <pad></span><span style=\"background-color: #FFFFFF\"> <pad></span><span style=\"background-color: #FFFFFF\"> <pad></span><span style=\"background-color: #FFFFFF\"> <pad></span><span style=\"background-color: #FFFFFF\"> <pad></span><span style=\"background-color: #FFFFFF\"> <pad></span><span style=\"background-color: #FFFFFF\"> <pad></span><span style=\"background-color: #FFFFFF\"> <pad></span><span style=\"background-color: #FFFFFF\"> <pad></span><span style=\"background-color: #FFFFFF\"> <pad></span><span style=\"background-color: #FFFFFF\"> <pad></span><span style=\"background-color: #FFFFFF\"> <pad></span><span style=\"background-color: #FFFFFF\"> <pad></span><span style=\"background-color: #FFFFFF\"> <pad></span><span style=\"background-color: #FFFFFF\"> <pad></span><span style=\"background-color: #FFFFFF\"> <pad></span><span style=\"background-color: #FFFFFF\"> <pad></span><span style=\"background-color: #FFFFFF\"> <pad></span><span style=\"background-color: #FFFFFF\"> <pad></span><span style=\"background-color: #FFFFFF\"> <pad></span><span style=\"background-color: #FFFFFF\"> <pad></span><span style=\"background-color: #FFFFFF\"> <pad></span><span style=\"background-color: #FFFFFF\"> <pad></span><span style=\"background-color: #FFFFFF\"> <pad></span><span style=\"background-color: #FFFFFF\"> <pad></span><span style=\"background-color: #FFFFFF\"> <pad></span><span style=\"background-color: #FFFFFF\"> <pad></span><span style=\"background-color: #FFFFFF\"> <pad></span><span style=\"background-color: #FFFFFF\"> <pad></span><span style=\"background-color: #FFFFFF\"> <pad></span><span style=\"background-color: #FFFFFF\"> <pad></span><span style=\"background-color: #FFFFFF\"> <pad></span><span style=\"background-color: #FFFFFF\"> <pad></span><span style=\"background-color: #FFFFFF\"> <pad></span><span style=\"background-color: #FFFFFF\"> <pad></span><span style=\"background-color: #FFFFFF\"> <pad></span><span style=\"background-color: #FFFFFF\"> <pad></span><span style=\"background-color: #FFFFFF\"> <pad></span><span style=\"background-color: #FFFFFF\"> <pad></span><span style=\"background-color: #FFFFFF\"> <pad></span><span style=\"background-color: #FFFFFF\"> <pad></span><span style=\"background-color: #FFFFFF\"> <pad></span><span style=\"background-color: #FFFFFF\"> <pad></span><span style=\"background-color: #FFFFFF\"> <pad></span><span style=\"background-color: #FFFFFF\"> <pad></span><span style=\"background-color: #FFFFFF\"> <pad></span><span style=\"background-color: #FFFFFF\"> <pad></span><span style=\"background-color: #FFFFFF\"> <pad></span><span style=\"background-color: #FFFFFF\"> <pad></span><span style=\"background-color: #FFFFFF\"> <pad></span><span style=\"background-color: #FFFFFF\"> <pad></span><span style=\"background-color: #FFFFFF\"> <pad></span><span style=\"background-color: #FFFFFF\"> <pad></span><span style=\"background-color: #FFFFFF\"> <pad></span><span style=\"background-color: #FFFFFF\"> <pad></span><span style=\"background-color: #FFFFFF\"> <pad></span><span style=\"background-color: #FFFFFF\"> <pad></span><span style=\"background-color: #FFFFFF\"> <pad></span><span style=\"background-color: #FFFFFF\"> <pad></span><span style=\"background-color: #FFFFFF\"> <pad></span><span style=\"background-color: #FFFFFF\"> <pad></span><span style=\"background-color: #FFFFFF\"> <pad></span><span style=\"background-color: #FFFFFF\"> <pad></span><span style=\"background-color: #FFFFFF\"> <pad></span><span style=\"background-color: #FFFFFF\"> <pad></span><span style=\"background-color: #FFFFFF\"> <pad></span><span style=\"background-color: #FFFFFF\"> <pad></span><span style=\"background-color: #FFFFFF\"> <pad></span><span style=\"background-color: #FFFFFF\"> <pad></span><span style=\"background-color: #FFFFFF\"> <pad></span><br><br>"
            ],
            "text/plain": [
              "<IPython.core.display.HTML object>"
            ]
          },
          "metadata": {
            "tags": []
          },
          "execution_count": 19
        }
      ]
    },
    {
      "cell_type": "markdown",
      "metadata": {
        "id": "53-l2Y03cYJM",
        "colab_type": "text"
      },
      "source": [
        "以上"
      ]
    }
  ]
}